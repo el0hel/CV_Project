{
 "cells": [
  {
   "cell_type": "code",
   "execution_count": 1,
   "id": "6a5bacb7",
   "metadata": {
    "execution": {
     "iopub.execute_input": "2024-11-25T19:57:16.348298Z",
     "iopub.status.busy": "2024-11-25T19:57:16.347968Z",
     "iopub.status.idle": "2024-11-25T19:57:41.366450Z",
     "shell.execute_reply": "2024-11-25T19:57:41.365563Z"
    },
    "papermill": {
     "duration": 25.023668,
     "end_time": "2024-11-25T19:57:41.368629",
     "exception": false,
     "start_time": "2024-11-25T19:57:16.344961",
     "status": "completed"
    },
    "scrolled": true,
    "tags": []
   },
   "outputs": [
    {
     "name": "stdout",
     "output_type": "stream",
     "text": [
      "Collecting ultralytics\r\n",
      "  Downloading ultralytics-8.3.37-py3-none-any.whl.metadata (35 kB)\r\n",
      "Requirement already satisfied: numpy>=1.23.0 in /opt/conda/lib/python3.10/site-packages (from ultralytics) (1.26.4)\r\n",
      "Requirement already satisfied: matplotlib>=3.3.0 in /opt/conda/lib/python3.10/site-packages (from ultralytics) (3.7.5)\r\n",
      "Requirement already satisfied: opencv-python>=4.6.0 in /opt/conda/lib/python3.10/site-packages (from ultralytics) (4.10.0.84)\r\n",
      "Requirement already satisfied: pillow>=7.1.2 in /opt/conda/lib/python3.10/site-packages (from ultralytics) (10.3.0)\r\n",
      "Requirement already satisfied: pyyaml>=5.3.1 in /opt/conda/lib/python3.10/site-packages (from ultralytics) (6.0.2)\r\n",
      "Requirement already satisfied: requests>=2.23.0 in /opt/conda/lib/python3.10/site-packages (from ultralytics) (2.32.3)\r\n",
      "Requirement already satisfied: scipy>=1.4.1 in /opt/conda/lib/python3.10/site-packages (from ultralytics) (1.14.1)\r\n",
      "Requirement already satisfied: torch>=1.8.0 in /opt/conda/lib/python3.10/site-packages (from ultralytics) (2.4.0)\r\n",
      "Requirement already satisfied: torchvision>=0.9.0 in /opt/conda/lib/python3.10/site-packages (from ultralytics) (0.19.0)\r\n",
      "Requirement already satisfied: tqdm>=4.64.0 in /opt/conda/lib/python3.10/site-packages (from ultralytics) (4.66.4)\r\n",
      "Requirement already satisfied: psutil in /opt/conda/lib/python3.10/site-packages (from ultralytics) (5.9.3)\r\n",
      "Requirement already satisfied: py-cpuinfo in /opt/conda/lib/python3.10/site-packages (from ultralytics) (9.0.0)\r\n",
      "Requirement already satisfied: pandas>=1.1.4 in /opt/conda/lib/python3.10/site-packages (from ultralytics) (2.2.2)\r\n",
      "Requirement already satisfied: seaborn>=0.11.0 in /opt/conda/lib/python3.10/site-packages (from ultralytics) (0.12.2)\r\n",
      "Collecting ultralytics-thop>=2.0.0 (from ultralytics)\r\n",
      "  Downloading ultralytics_thop-2.0.12-py3-none-any.whl.metadata (9.4 kB)\r\n",
      "Requirement already satisfied: contourpy>=1.0.1 in /opt/conda/lib/python3.10/site-packages (from matplotlib>=3.3.0->ultralytics) (1.2.1)\r\n",
      "Requirement already satisfied: cycler>=0.10 in /opt/conda/lib/python3.10/site-packages (from matplotlib>=3.3.0->ultralytics) (0.12.1)\r\n",
      "Requirement already satisfied: fonttools>=4.22.0 in /opt/conda/lib/python3.10/site-packages (from matplotlib>=3.3.0->ultralytics) (4.53.0)\r\n",
      "Requirement already satisfied: kiwisolver>=1.0.1 in /opt/conda/lib/python3.10/site-packages (from matplotlib>=3.3.0->ultralytics) (1.4.5)\r\n",
      "Requirement already satisfied: packaging>=20.0 in /opt/conda/lib/python3.10/site-packages (from matplotlib>=3.3.0->ultralytics) (21.3)\r\n",
      "Requirement already satisfied: pyparsing>=2.3.1 in /opt/conda/lib/python3.10/site-packages (from matplotlib>=3.3.0->ultralytics) (3.1.2)\r\n",
      "Requirement already satisfied: python-dateutil>=2.7 in /opt/conda/lib/python3.10/site-packages (from matplotlib>=3.3.0->ultralytics) (2.9.0.post0)\r\n",
      "Requirement already satisfied: pytz>=2020.1 in /opt/conda/lib/python3.10/site-packages (from pandas>=1.1.4->ultralytics) (2024.1)\r\n",
      "Requirement already satisfied: tzdata>=2022.7 in /opt/conda/lib/python3.10/site-packages (from pandas>=1.1.4->ultralytics) (2024.1)\r\n",
      "Requirement already satisfied: charset-normalizer<4,>=2 in /opt/conda/lib/python3.10/site-packages (from requests>=2.23.0->ultralytics) (3.3.2)\r\n",
      "Requirement already satisfied: idna<4,>=2.5 in /opt/conda/lib/python3.10/site-packages (from requests>=2.23.0->ultralytics) (3.7)\r\n",
      "Requirement already satisfied: urllib3<3,>=1.21.1 in /opt/conda/lib/python3.10/site-packages (from requests>=2.23.0->ultralytics) (1.26.18)\r\n",
      "Requirement already satisfied: certifi>=2017.4.17 in /opt/conda/lib/python3.10/site-packages (from requests>=2.23.0->ultralytics) (2024.8.30)\r\n",
      "Requirement already satisfied: filelock in /opt/conda/lib/python3.10/site-packages (from torch>=1.8.0->ultralytics) (3.15.1)\r\n",
      "Requirement already satisfied: typing-extensions>=4.8.0 in /opt/conda/lib/python3.10/site-packages (from torch>=1.8.0->ultralytics) (4.12.2)\r\n",
      "Requirement already satisfied: sympy in /opt/conda/lib/python3.10/site-packages (from torch>=1.8.0->ultralytics) (1.13.3)\r\n",
      "Requirement already satisfied: networkx in /opt/conda/lib/python3.10/site-packages (from torch>=1.8.0->ultralytics) (3.3)\r\n",
      "Requirement already satisfied: jinja2 in /opt/conda/lib/python3.10/site-packages (from torch>=1.8.0->ultralytics) (3.1.4)\r\n",
      "Requirement already satisfied: fsspec in /opt/conda/lib/python3.10/site-packages (from torch>=1.8.0->ultralytics) (2024.6.1)\r\n",
      "Requirement already satisfied: six>=1.5 in /opt/conda/lib/python3.10/site-packages (from python-dateutil>=2.7->matplotlib>=3.3.0->ultralytics) (1.16.0)\r\n",
      "Requirement already satisfied: MarkupSafe>=2.0 in /opt/conda/lib/python3.10/site-packages (from jinja2->torch>=1.8.0->ultralytics) (2.1.5)\r\n",
      "Requirement already satisfied: mpmath<1.4,>=1.1.0 in /opt/conda/lib/python3.10/site-packages (from sympy->torch>=1.8.0->ultralytics) (1.3.0)\r\n",
      "Downloading ultralytics-8.3.37-py3-none-any.whl (887 kB)\r\n",
      "\u001b[2K   \u001b[90m━━━━━━━━━━━━━━━━━━━━━━━━━━━━━━━━━━━━━━━━\u001b[0m \u001b[32m887.5/887.5 kB\u001b[0m \u001b[31m20.1 MB/s\u001b[0m eta \u001b[36m0:00:00\u001b[0m\r\n",
      "\u001b[?25hDownloading ultralytics_thop-2.0.12-py3-none-any.whl (26 kB)\r\n",
      "Installing collected packages: ultralytics-thop, ultralytics\r\n",
      "Successfully installed ultralytics-8.3.37 ultralytics-thop-2.0.12\r\n",
      "Requirement already satisfied: ipywidgets in /opt/conda/lib/python3.10/site-packages (7.7.1)\r\n",
      "Collecting ipywidgets\r\n",
      "  Downloading ipywidgets-8.1.5-py3-none-any.whl.metadata (2.3 kB)\r\n",
      "Requirement already satisfied: comm>=0.1.3 in /opt/conda/lib/python3.10/site-packages (from ipywidgets) (0.2.2)\r\n",
      "Requirement already satisfied: ipython>=6.1.0 in /opt/conda/lib/python3.10/site-packages (from ipywidgets) (8.21.0)\r\n",
      "Requirement already satisfied: traitlets>=4.3.1 in /opt/conda/lib/python3.10/site-packages (from ipywidgets) (5.14.3)\r\n",
      "Collecting widgetsnbextension~=4.0.12 (from ipywidgets)\r\n",
      "  Downloading widgetsnbextension-4.0.13-py3-none-any.whl.metadata (1.6 kB)\r\n",
      "Collecting jupyterlab-widgets~=3.0.12 (from ipywidgets)\r\n",
      "  Downloading jupyterlab_widgets-3.0.13-py3-none-any.whl.metadata (4.1 kB)\r\n",
      "Requirement already satisfied: decorator in /opt/conda/lib/python3.10/site-packages (from ipython>=6.1.0->ipywidgets) (5.1.1)\r\n",
      "Requirement already satisfied: jedi>=0.16 in /opt/conda/lib/python3.10/site-packages (from ipython>=6.1.0->ipywidgets) (0.19.1)\r\n",
      "Requirement already satisfied: matplotlib-inline in /opt/conda/lib/python3.10/site-packages (from ipython>=6.1.0->ipywidgets) (0.1.7)\r\n",
      "Requirement already satisfied: prompt-toolkit<3.1.0,>=3.0.41 in /opt/conda/lib/python3.10/site-packages (from ipython>=6.1.0->ipywidgets) (3.0.47)\r\n",
      "Requirement already satisfied: pygments>=2.4.0 in /opt/conda/lib/python3.10/site-packages (from ipython>=6.1.0->ipywidgets) (2.18.0)\r\n",
      "Requirement already satisfied: stack-data in /opt/conda/lib/python3.10/site-packages (from ipython>=6.1.0->ipywidgets) (0.6.2)\r\n",
      "Requirement already satisfied: exceptiongroup in /opt/conda/lib/python3.10/site-packages (from ipython>=6.1.0->ipywidgets) (1.2.0)\r\n",
      "Requirement already satisfied: pexpect>4.3 in /opt/conda/lib/python3.10/site-packages (from ipython>=6.1.0->ipywidgets) (4.9.0)\r\n",
      "Requirement already satisfied: parso<0.9.0,>=0.8.3 in /opt/conda/lib/python3.10/site-packages (from jedi>=0.16->ipython>=6.1.0->ipywidgets) (0.8.4)\r\n",
      "Requirement already satisfied: ptyprocess>=0.5 in /opt/conda/lib/python3.10/site-packages (from pexpect>4.3->ipython>=6.1.0->ipywidgets) (0.7.0)\r\n",
      "Requirement already satisfied: wcwidth in /opt/conda/lib/python3.10/site-packages (from prompt-toolkit<3.1.0,>=3.0.41->ipython>=6.1.0->ipywidgets) (0.2.13)\r\n",
      "Requirement already satisfied: executing>=1.2.0 in /opt/conda/lib/python3.10/site-packages (from stack-data->ipython>=6.1.0->ipywidgets) (2.0.1)\r\n",
      "Requirement already satisfied: asttokens>=2.1.0 in /opt/conda/lib/python3.10/site-packages (from stack-data->ipython>=6.1.0->ipywidgets) (2.4.1)\r\n",
      "Requirement already satisfied: pure-eval in /opt/conda/lib/python3.10/site-packages (from stack-data->ipython>=6.1.0->ipywidgets) (0.2.2)\r\n",
      "Requirement already satisfied: six>=1.12.0 in /opt/conda/lib/python3.10/site-packages (from asttokens>=2.1.0->stack-data->ipython>=6.1.0->ipywidgets) (1.16.0)\r\n",
      "Downloading ipywidgets-8.1.5-py3-none-any.whl (139 kB)\r\n",
      "\u001b[2K   \u001b[90m━━━━━━━━━━━━━━━━━━━━━━━━━━━━━━━━━━━━━━━━\u001b[0m \u001b[32m139.8/139.8 kB\u001b[0m \u001b[31m5.0 MB/s\u001b[0m eta \u001b[36m0:00:00\u001b[0m\r\n",
      "\u001b[?25hDownloading jupyterlab_widgets-3.0.13-py3-none-any.whl (214 kB)\r\n",
      "\u001b[2K   \u001b[90m━━━━━━━━━━━━━━━━━━━━━━━━━━━━━━━━━━━━━━━━\u001b[0m \u001b[32m214.4/214.4 kB\u001b[0m \u001b[31m10.5 MB/s\u001b[0m eta \u001b[36m0:00:00\u001b[0m\r\n",
      "\u001b[?25hDownloading widgetsnbextension-4.0.13-py3-none-any.whl (2.3 MB)\r\n",
      "\u001b[2K   \u001b[90m━━━━━━━━━━━━━━━━━━━━━━━━━━━━━━━━━━━━━━━━\u001b[0m \u001b[32m2.3/2.3 MB\u001b[0m \u001b[31m58.8 MB/s\u001b[0m eta \u001b[36m0:00:00\u001b[0m\r\n",
      "\u001b[?25hInstalling collected packages: widgetsnbextension, jupyterlab-widgets, ipywidgets\r\n",
      "  Attempting uninstall: widgetsnbextension\r\n",
      "    Found existing installation: widgetsnbextension 3.6.9\r\n",
      "    Uninstalling widgetsnbextension-3.6.9:\r\n",
      "      Successfully uninstalled widgetsnbextension-3.6.9\r\n",
      "  Attempting uninstall: jupyterlab-widgets\r\n",
      "    Found existing installation: jupyterlab_widgets 3.0.11\r\n",
      "    Uninstalling jupyterlab_widgets-3.0.11:\r\n",
      "      Successfully uninstalled jupyterlab_widgets-3.0.11\r\n",
      "  Attempting uninstall: ipywidgets\r\n",
      "    Found existing installation: ipywidgets 7.7.1\r\n",
      "    Uninstalling ipywidgets-7.7.1:\r\n",
      "      Successfully uninstalled ipywidgets-7.7.1\r\n",
      "\u001b[31mERROR: pip's dependency resolver does not currently take into account all the packages that are installed. This behaviour is the source of the following dependency conflicts.\r\n",
      "bigframes 0.22.0 requires google-cloud-bigquery[bqstorage,pandas]>=3.10.0, but you have google-cloud-bigquery 2.34.4 which is incompatible.\r\n",
      "bigframes 0.22.0 requires google-cloud-storage>=2.0.0, but you have google-cloud-storage 1.44.0 which is incompatible.\r\n",
      "bigframes 0.22.0 requires pandas<2.1.4,>=1.5.0, but you have pandas 2.2.2 which is incompatible.\r\n",
      "dataproc-jupyter-plugin 0.1.79 requires pydantic~=1.10.0, but you have pydantic 2.9.2 which is incompatible.\u001b[0m\u001b[31m\r\n",
      "\u001b[0mSuccessfully installed ipywidgets-8.1.5 jupyterlab-widgets-3.0.13 widgetsnbextension-4.0.13\r\n",
      "Creating new Ultralytics Settings v0.0.6 file ✅ \n",
      "View Ultralytics Settings with 'yolo settings' or at '/root/.config/Ultralytics/settings.json'\n",
      "Update Settings with 'yolo settings key=value', i.e. 'yolo settings runs_dir=path/to/dir'. For help see https://docs.ultralytics.com/quickstart/#ultralytics-settings.\n"
     ]
    }
   ],
   "source": [
    "!pip install ultralytics\n",
    "!pip install -U ipywidgets\n",
    "from ultralytics import YOLO\n",
    "import torch"
   ]
  },
  {
   "cell_type": "code",
   "execution_count": 2,
   "id": "63f01f00",
   "metadata": {
    "_cell_guid": "b1076dfc-b9ad-4769-8c92-a6c4dae69d19",
    "_kg_hide-output": true,
    "_uuid": "8f2839f25d086af736a60e9eeb907d3b93b6e0e5",
    "execution": {
     "iopub.execute_input": "2024-11-25T19:57:41.377489Z",
     "iopub.status.busy": "2024-11-25T19:57:41.377098Z",
     "iopub.status.idle": "2024-11-26T00:52:44.725160Z",
     "shell.execute_reply": "2024-11-26T00:52:44.724042Z"
    },
    "papermill": {
     "duration": 17703.35489,
     "end_time": "2024-11-26T00:52:44.727524",
     "exception": false,
     "start_time": "2024-11-25T19:57:41.372634",
     "status": "completed"
    },
    "scrolled": true,
    "tags": []
   },
   "outputs": [
    {
     "name": "stdout",
     "output_type": "stream",
     "text": [
      "Downloading https://github.com/ultralytics/assets/releases/download/v8.3.0/yolov8n.pt to 'yolov8n.pt'...\n"
     ]
    },
    {
     "name": "stderr",
     "output_type": "stream",
     "text": [
      "100%|██████████| 6.25M/6.25M [00:00<00:00, 133MB/s]\n"
     ]
    },
    {
     "name": "stdout",
     "output_type": "stream",
     "text": [
      "Ultralytics 8.3.37 🚀 Python-3.10.14 torch-2.4.0 CUDA:0 (Tesla T4, 15095MiB)\n",
      "                                                 CUDA:1 (Tesla T4, 15095MiB)\n",
      "\u001b[34m\u001b[1mengine/trainer: \u001b[0mtask=detect, mode=train, model=yolov8n.pt, data=/kaggle/input/cv-project-files2/dataset.yaml, epochs=75, time=None, patience=100, batch=32, imgsz=640, save=True, save_period=-1, cache=False, device=[0, 1], workers=8, project=None, name=train, exist_ok=False, pretrained=True, optimizer=auto, verbose=True, seed=0, deterministic=True, single_cls=False, rect=False, cos_lr=False, close_mosaic=10, resume=False, amp=True, fraction=1.0, profile=False, freeze=None, multi_scale=False, overlap_mask=True, mask_ratio=4, dropout=0.2, val=True, split=val, save_json=False, save_hybrid=False, conf=None, iou=0.7, max_det=300, half=False, dnn=False, plots=True, source=None, vid_stride=1, stream_buffer=False, visualize=False, augment=True, agnostic_nms=False, classes=None, retina_masks=False, embed=None, show=False, save_frames=False, save_txt=False, save_conf=False, save_crop=False, show_labels=True, show_conf=True, show_boxes=True, line_width=None, format=torchscript, keras=False, optimize=False, int8=False, dynamic=False, simplify=True, opset=None, workspace=None, nms=False, lr0=0.001, lrf=0.01, momentum=0.937, weight_decay=0.0005, warmup_epochs=3.0, warmup_momentum=0.8, warmup_bias_lr=0.1, box=7.5, cls=0.5, dfl=1.5, pose=12.0, kobj=1.0, label_smoothing=0.0, nbs=64, hsv_h=0.015, hsv_s=0.7, hsv_v=0.4, degrees=0.0, translate=0.1, scale=0.5, shear=0.0, perspective=0.0, flipud=0.0, fliplr=0.5, bgr=0.0, mosaic=1.0, mixup=0.0, copy_paste=0.0, copy_paste_mode=flip, auto_augment=randaugment, erasing=0.4, crop_fraction=1.0, cfg=None, tracker=botsort.yaml, save_dir=runs/detect/train\n",
      "Downloading https://ultralytics.com/assets/Arial.ttf to '/root/.config/Ultralytics/Arial.ttf'...\n"
     ]
    },
    {
     "name": "stderr",
     "output_type": "stream",
     "text": [
      "100%|██████████| 755k/755k [00:00<00:00, 23.0MB/s]\n"
     ]
    },
    {
     "name": "stdout",
     "output_type": "stream",
     "text": [
      "Overriding model.yaml nc=80 with nc=1\n",
      "\n",
      "                   from  n    params  module                                       arguments                     \n",
      "  0                  -1  1       464  ultralytics.nn.modules.conv.Conv             [3, 16, 3, 2]                 \n",
      "  1                  -1  1      4672  ultralytics.nn.modules.conv.Conv             [16, 32, 3, 2]                \n",
      "  2                  -1  1      7360  ultralytics.nn.modules.block.C2f             [32, 32, 1, True]             \n",
      "  3                  -1  1     18560  ultralytics.nn.modules.conv.Conv             [32, 64, 3, 2]                \n",
      "  4                  -1  2     49664  ultralytics.nn.modules.block.C2f             [64, 64, 2, True]             \n",
      "  5                  -1  1     73984  ultralytics.nn.modules.conv.Conv             [64, 128, 3, 2]               \n",
      "  6                  -1  2    197632  ultralytics.nn.modules.block.C2f             [128, 128, 2, True]           \n",
      "  7                  -1  1    295424  ultralytics.nn.modules.conv.Conv             [128, 256, 3, 2]              \n",
      "  8                  -1  1    460288  ultralytics.nn.modules.block.C2f             [256, 256, 1, True]           \n",
      "  9                  -1  1    164608  ultralytics.nn.modules.block.SPPF            [256, 256, 5]                 \n",
      " 10                  -1  1         0  torch.nn.modules.upsampling.Upsample         [None, 2, 'nearest']          \n",
      " 11             [-1, 6]  1         0  ultralytics.nn.modules.conv.Concat           [1]                           \n",
      " 12                  -1  1    148224  ultralytics.nn.modules.block.C2f             [384, 128, 1]                 \n",
      " 13                  -1  1         0  torch.nn.modules.upsampling.Upsample         [None, 2, 'nearest']          \n",
      " 14             [-1, 4]  1         0  ultralytics.nn.modules.conv.Concat           [1]                           \n",
      " 15                  -1  1     37248  ultralytics.nn.modules.block.C2f             [192, 64, 1]                  \n",
      " 16                  -1  1     36992  ultralytics.nn.modules.conv.Conv             [64, 64, 3, 2]                \n",
      " 17            [-1, 12]  1         0  ultralytics.nn.modules.conv.Concat           [1]                           \n",
      " 18                  -1  1    123648  ultralytics.nn.modules.block.C2f             [192, 128, 1]                 \n",
      " 19                  -1  1    147712  ultralytics.nn.modules.conv.Conv             [128, 128, 3, 2]              \n",
      " 20             [-1, 9]  1         0  ultralytics.nn.modules.conv.Concat           [1]                           \n",
      " 21                  -1  1    493056  ultralytics.nn.modules.block.C2f             [384, 256, 1]                 \n",
      " 22        [15, 18, 21]  1    751507  ultralytics.nn.modules.head.Detect           [1, [64, 128, 256]]           \n",
      "Model summary: 225 layers, 3,011,043 parameters, 3,011,027 gradients, 8.2 GFLOPs\n",
      "\n",
      "Transferred 319/355 items from pretrained weights\n",
      "\u001b[34m\u001b[1mDDP:\u001b[0m debug command /opt/conda/bin/python -m torch.distributed.run --nproc_per_node 2 --master_port 54573 /root/.config/Ultralytics/DDP/_temp_nf598wy_139877507927104.py\n",
      "Ultralytics 8.3.37 🚀 Python-3.10.14 torch-2.4.0 CUDA:0 (Tesla T4, 15095MiB)\n",
      "                                                 CUDA:1 (Tesla T4, 15095MiB)\n",
      "\u001b[34m\u001b[1mTensorBoard: \u001b[0mStart with 'tensorboard --logdir runs/detect/train', view at http://localhost:6006/\n",
      "Overriding model.yaml nc=80 with nc=1\n",
      "Transferred 319/355 items from pretrained weights\n",
      "Freezing layer 'model.22.dfl.conv.weight'\n",
      "\u001b[34m\u001b[1mAMP: \u001b[0mrunning Automatic Mixed Precision (AMP) checks...\n",
      "Downloading https://github.com/ultralytics/assets/releases/download/v8.3.0/yolo11n.pt to 'yolo11n.pt'...\n"
     ]
    },
    {
     "name": "stderr",
     "output_type": "stream",
     "text": [
      "100%|██████████| 5.35M/5.35M [00:00<00:00, 98.7MB/s]\n"
     ]
    },
    {
     "name": "stdout",
     "output_type": "stream",
     "text": [
      "\u001b[34m\u001b[1mAMP: \u001b[0mchecks passed ✅\n"
     ]
    },
    {
     "name": "stderr",
     "output_type": "stream",
     "text": [
      "\u001b[34m\u001b[1mtrain: \u001b[0mScanning /kaggle/input/large-license-plate-dataset/labels/train... 25470 images, 18 backgrounds, 0 corrupt: 100%|██████████| 25470/25470 [02:11<00:00, 193.72it/s]\n"
     ]
    },
    {
     "name": "stdout",
     "output_type": "stream",
     "text": [
      "\u001b[34m\u001b[1mtrain: \u001b[0mWARNING ⚠️ Cache directory /kaggle/input/large-license-plate-dataset/labels is not writeable, cache not saved.\n"
     ]
    },
    {
     "name": "stderr",
     "output_type": "stream",
     "text": [
      "/opt/conda/lib/python3.10/site-packages/albumentations/__init__.py:13: UserWarning: A new version of Albumentations is available: 1.4.21 (you have 1.4.17). Upgrade using: pip install -U albumentations. To disable automatic update checks, set the environment variable NO_ALBUMENTATIONS_UPDATE to 1.\n",
      "  check_for_updates()\n",
      "/opt/conda/lib/python3.10/multiprocessing/popen_fork.py:66: RuntimeWarning: os.fork() was called. os.fork() is incompatible with multithreaded code, and JAX is multithreaded, so this will likely lead to a deadlock.\n",
      "  self.pid = os.fork()\n"
     ]
    },
    {
     "name": "stdout",
     "output_type": "stream",
     "text": [
      "\u001b[34m\u001b[1malbumentations: \u001b[0mBlur(p=0.01, blur_limit=(3, 7)), MedianBlur(p=0.01, blur_limit=(3, 7)), ToGray(p=0.01, num_output_channels=3, method='weighted_average'), CLAHE(p=0.01, clip_limit=(1, 4.0), tile_grid_size=(8, 8))\n"
     ]
    },
    {
     "name": "stderr",
     "output_type": "stream",
     "text": [
      "\u001b[34m\u001b[1mval: \u001b[0mScanning /kaggle/input/large-license-plate-dataset/labels/val... 1073 images, 0 backgrounds, 0 corrupt: 100%|██████████| 1073/1073 [00:07<00:00, 139.67it/s]\n"
     ]
    },
    {
     "name": "stdout",
     "output_type": "stream",
     "text": [
      "\u001b[34m\u001b[1mval: \u001b[0mWARNING ⚠️ Cache directory /kaggle/input/large-license-plate-dataset/labels is not writeable, cache not saved.\n",
      "Plotting labels to runs/detect/train/labels.jpg... \n",
      "\u001b[34m\u001b[1moptimizer:\u001b[0m 'optimizer=auto' found, ignoring 'lr0=0.001' and 'momentum=0.937' and determining best 'optimizer', 'lr0' and 'momentum' automatically... \n",
      "\u001b[34m\u001b[1moptimizer:\u001b[0m SGD(lr=0.01, momentum=0.9) with parameter groups 57 weight(decay=0.0), 64 weight(decay=0.0005), 63 bias(decay=0.0)\n",
      "\u001b[34m\u001b[1mTensorBoard: \u001b[0mmodel graph visualization added ✅\n",
      "Image sizes 640 train, 640 val\n",
      "Using 4 dataloader workers\n",
      "Logging results to \u001b[1mruns/detect/train\u001b[0m\n",
      "Starting training for 75 epochs...\n",
      "\n",
      "      Epoch    GPU_mem   box_loss   cls_loss   dfl_loss  Instances       Size\n"
     ]
    },
    {
     "name": "stderr",
     "output_type": "stream",
     "text": [
      "\u001b[34m\u001b[1mtrain: \u001b[0mScanning /kaggle/input/large-license-plate-dataset/labels/train... 25470 images, 18 backgrounds, 0 corrupt: 100%|██████████| 25470/25470 [00:31<00:00, 797.36it/s]\n",
      "/opt/conda/lib/python3.10/site-packages/albumentations/__init__.py:13: UserWarning: A new version of Albumentations is available: 1.4.21 (you have 1.4.17). Upgrade using: pip install -U albumentations. To disable automatic update checks, set the environment variable NO_ALBUMENTATIONS_UPDATE to 1.\n",
      "  check_for_updates()\n",
      "       1/75      2.19G      1.264      1.581      1.171         26        640: 100%|██████████| 796/796 [04:30<00:00,  2.95it/s]\n",
      "                 Class     Images  Instances      Box(P          R      mAP50  mAP50-95): 100%|██████████| 34/34 [00:08<00:00,  4.00it/s]\n"
     ]
    },
    {
     "name": "stdout",
     "output_type": "stream",
     "text": [
      "                   all       1073       1573      0.745      0.619      0.652      0.301\n",
      "\n",
      "      Epoch    GPU_mem   box_loss   cls_loss   dfl_loss  Instances       Size\n"
     ]
    },
    {
     "name": "stderr",
     "output_type": "stream",
     "text": [
      "       2/75      2.16G      1.243     0.7889      1.142         25        640: 100%|██████████| 796/796 [03:44<00:00,  3.54it/s]\n",
      "                 Class     Images  Instances      Box(P          R      mAP50  mAP50-95): 100%|██████████| 34/34 [00:06<00:00,  4.99it/s]\n"
     ]
    },
    {
     "name": "stdout",
     "output_type": "stream",
     "text": [
      "                   all       1073       1573      0.767      0.652      0.676      0.309\n",
      "\n",
      "      Epoch    GPU_mem   box_loss   cls_loss   dfl_loss  Instances       Size\n"
     ]
    },
    {
     "name": "stderr",
     "output_type": "stream",
     "text": [
      "       3/75      2.16G      1.285     0.7712      1.171         24        640: 100%|██████████| 796/796 [03:40<00:00,  3.60it/s]\n",
      "                 Class     Images  Instances      Box(P          R      mAP50  mAP50-95): 100%|██████████| 34/34 [00:06<00:00,  5.14it/s]\n"
     ]
    },
    {
     "name": "stdout",
     "output_type": "stream",
     "text": [
      "                   all       1073       1573      0.689      0.535      0.561      0.248\n",
      "\n",
      "      Epoch    GPU_mem   box_loss   cls_loss   dfl_loss  Instances       Size\n"
     ]
    },
    {
     "name": "stderr",
     "output_type": "stream",
     "text": [
      "       4/75      2.16G      1.291     0.7649      1.195         26        640: 100%|██████████| 796/796 [03:42<00:00,  3.57it/s]\n",
      "                 Class     Images  Instances      Box(P          R      mAP50  mAP50-95): 100%|██████████| 34/34 [00:06<00:00,  5.23it/s]\n"
     ]
    },
    {
     "name": "stdout",
     "output_type": "stream",
     "text": [
      "                   all       1073       1573      0.746      0.608      0.639      0.282\n",
      "\n",
      "      Epoch    GPU_mem   box_loss   cls_loss   dfl_loss  Instances       Size\n"
     ]
    },
    {
     "name": "stderr",
     "output_type": "stream",
     "text": [
      "       5/75      2.16G      1.257      0.709      1.181         33        640: 100%|██████████| 796/796 [03:40<00:00,  3.61it/s]\n",
      "                 Class     Images  Instances      Box(P          R      mAP50  mAP50-95): 100%|██████████| 34/34 [00:06<00:00,  4.93it/s]\n"
     ]
    },
    {
     "name": "stdout",
     "output_type": "stream",
     "text": [
      "                   all       1073       1573      0.781      0.609      0.678      0.326\n",
      "\n",
      "      Epoch    GPU_mem   box_loss   cls_loss   dfl_loss  Instances       Size\n"
     ]
    },
    {
     "name": "stderr",
     "output_type": "stream",
     "text": [
      "       6/75      2.16G      1.233     0.6742      1.164         35        640: 100%|██████████| 796/796 [03:42<00:00,  3.58it/s]\n",
      "                 Class     Images  Instances      Box(P          R      mAP50  mAP50-95): 100%|██████████| 34/34 [00:06<00:00,  5.07it/s]\n"
     ]
    },
    {
     "name": "stdout",
     "output_type": "stream",
     "text": [
      "                   all       1073       1573      0.798      0.639      0.696      0.329\n",
      "\n",
      "      Epoch    GPU_mem   box_loss   cls_loss   dfl_loss  Instances       Size\n"
     ]
    },
    {
     "name": "stderr",
     "output_type": "stream",
     "text": [
      "       7/75      2.16G      1.216     0.6506      1.165         23        640: 100%|██████████| 796/796 [03:39<00:00,  3.63it/s]\n",
      "                 Class     Images  Instances      Box(P          R      mAP50  mAP50-95): 100%|██████████| 34/34 [00:06<00:00,  4.95it/s]\n"
     ]
    },
    {
     "name": "stdout",
     "output_type": "stream",
     "text": [
      "                   all       1073       1573      0.804      0.662      0.717      0.334\n",
      "\n",
      "      Epoch    GPU_mem   box_loss   cls_loss   dfl_loss  Instances       Size\n"
     ]
    },
    {
     "name": "stderr",
     "output_type": "stream",
     "text": [
      "       8/75      2.16G      1.198     0.6241      1.151         31        640: 100%|██████████| 796/796 [03:40<00:00,  3.62it/s]\n",
      "                 Class     Images  Instances      Box(P          R      mAP50  mAP50-95): 100%|██████████| 34/34 [00:07<00:00,  4.82it/s]\n"
     ]
    },
    {
     "name": "stdout",
     "output_type": "stream",
     "text": [
      "                   all       1073       1573      0.828      0.678      0.744      0.374\n",
      "\n",
      "      Epoch    GPU_mem   box_loss   cls_loss   dfl_loss  Instances       Size\n"
     ]
    },
    {
     "name": "stderr",
     "output_type": "stream",
     "text": [
      "       9/75      2.16G      1.178      0.605      1.143         19        640: 100%|██████████| 796/796 [03:39<00:00,  3.63it/s]\n",
      "                 Class     Images  Instances      Box(P          R      mAP50  mAP50-95): 100%|██████████| 34/34 [00:07<00:00,  4.65it/s]\n"
     ]
    },
    {
     "name": "stdout",
     "output_type": "stream",
     "text": [
      "                   all       1073       1573      0.821       0.69      0.759      0.378\n",
      "\n",
      "      Epoch    GPU_mem   box_loss   cls_loss   dfl_loss  Instances       Size\n"
     ]
    },
    {
     "name": "stderr",
     "output_type": "stream",
     "text": [
      "      10/75      2.16G      1.178     0.6033      1.138         23        640: 100%|██████████| 796/796 [03:39<00:00,  3.63it/s]\n",
      "                 Class     Images  Instances      Box(P          R      mAP50  mAP50-95): 100%|██████████| 34/34 [00:07<00:00,  4.75it/s]\n"
     ]
    },
    {
     "name": "stdout",
     "output_type": "stream",
     "text": [
      "                   all       1073       1573       0.83      0.715      0.759      0.381\n",
      "\n",
      "      Epoch    GPU_mem   box_loss   cls_loss   dfl_loss  Instances       Size\n"
     ]
    },
    {
     "name": "stderr",
     "output_type": "stream",
     "text": [
      "      11/75      2.16G      1.181     0.5913      1.137         25        640: 100%|██████████| 796/796 [03:39<00:00,  3.62it/s]\n",
      "                 Class     Images  Instances      Box(P          R      mAP50  mAP50-95): 100%|██████████| 34/34 [00:06<00:00,  5.09it/s]\n"
     ]
    },
    {
     "name": "stdout",
     "output_type": "stream",
     "text": [
      "                   all       1073       1573      0.839      0.738      0.782      0.396\n",
      "\n",
      "      Epoch    GPU_mem   box_loss   cls_loss   dfl_loss  Instances       Size\n"
     ]
    },
    {
     "name": "stderr",
     "output_type": "stream",
     "text": [
      "      12/75      2.16G      1.159     0.5823      1.128         26        640: 100%|██████████| 796/796 [03:39<00:00,  3.63it/s]\n",
      "                 Class     Images  Instances      Box(P          R      mAP50  mAP50-95): 100%|██████████| 34/34 [00:06<00:00,  4.91it/s]\n"
     ]
    },
    {
     "name": "stdout",
     "output_type": "stream",
     "text": [
      "                   all       1073       1573      0.835      0.727      0.781      0.399\n",
      "\n",
      "      Epoch    GPU_mem   box_loss   cls_loss   dfl_loss  Instances       Size\n"
     ]
    },
    {
     "name": "stderr",
     "output_type": "stream",
     "text": [
      "      13/75      2.16G      1.162     0.5784      1.129         39        640: 100%|██████████| 796/796 [03:39<00:00,  3.62it/s]\n",
      "                 Class     Images  Instances      Box(P          R      mAP50  mAP50-95): 100%|██████████| 34/34 [00:06<00:00,  5.05it/s]\n"
     ]
    },
    {
     "name": "stdout",
     "output_type": "stream",
     "text": [
      "                   all       1073       1573       0.85      0.731      0.787      0.403\n",
      "\n",
      "      Epoch    GPU_mem   box_loss   cls_loss   dfl_loss  Instances       Size\n"
     ]
    },
    {
     "name": "stderr",
     "output_type": "stream",
     "text": [
      "      14/75      2.16G       1.16     0.5654      1.124         21        640: 100%|██████████| 796/796 [03:38<00:00,  3.64it/s]\n",
      "                 Class     Images  Instances      Box(P          R      mAP50  mAP50-95): 100%|██████████| 34/34 [00:06<00:00,  5.19it/s]\n"
     ]
    },
    {
     "name": "stdout",
     "output_type": "stream",
     "text": [
      "                   all       1073       1573       0.84      0.736      0.796      0.412\n",
      "\n",
      "      Epoch    GPU_mem   box_loss   cls_loss   dfl_loss  Instances       Size\n"
     ]
    },
    {
     "name": "stderr",
     "output_type": "stream",
     "text": [
      "      15/75      2.16G      1.141     0.5548      1.118         29        640: 100%|██████████| 796/796 [03:38<00:00,  3.65it/s]\n",
      "                 Class     Images  Instances      Box(P          R      mAP50  mAP50-95): 100%|██████████| 34/34 [00:06<00:00,  5.22it/s]\n"
     ]
    },
    {
     "name": "stdout",
     "output_type": "stream",
     "text": [
      "                   all       1073       1573      0.853       0.74      0.793      0.412\n",
      "\n",
      "      Epoch    GPU_mem   box_loss   cls_loss   dfl_loss  Instances       Size\n"
     ]
    },
    {
     "name": "stderr",
     "output_type": "stream",
     "text": [
      "      16/75      2.16G      1.157     0.5596      1.123         35        640: 100%|██████████| 796/796 [03:39<00:00,  3.62it/s]\n",
      "                 Class     Images  Instances      Box(P          R      mAP50  mAP50-95): 100%|██████████| 34/34 [00:06<00:00,  4.93it/s]\n"
     ]
    },
    {
     "name": "stdout",
     "output_type": "stream",
     "text": [
      "                   all       1073       1573       0.86       0.75      0.805      0.415\n",
      "\n",
      "      Epoch    GPU_mem   box_loss   cls_loss   dfl_loss  Instances       Size\n"
     ]
    },
    {
     "name": "stderr",
     "output_type": "stream",
     "text": [
      "      17/75      2.16G      1.142     0.5494      1.115         30        640: 100%|██████████| 796/796 [03:42<00:00,  3.58it/s]\n",
      "                 Class     Images  Instances      Box(P          R      mAP50  mAP50-95): 100%|██████████| 34/34 [00:06<00:00,  5.00it/s]\n"
     ]
    },
    {
     "name": "stdout",
     "output_type": "stream",
     "text": [
      "                   all       1073       1573      0.835      0.758      0.802      0.421\n",
      "\n",
      "      Epoch    GPU_mem   box_loss   cls_loss   dfl_loss  Instances       Size\n"
     ]
    },
    {
     "name": "stderr",
     "output_type": "stream",
     "text": [
      "      18/75      2.16G      1.133     0.5438      1.115         23        640: 100%|██████████| 796/796 [03:47<00:00,  3.50it/s]\n",
      "                 Class     Images  Instances      Box(P          R      mAP50  mAP50-95): 100%|██████████| 34/34 [00:07<00:00,  4.81it/s]\n"
     ]
    },
    {
     "name": "stdout",
     "output_type": "stream",
     "text": [
      "                   all       1073       1573      0.846      0.753      0.801       0.42\n",
      "\n",
      "      Epoch    GPU_mem   box_loss   cls_loss   dfl_loss  Instances       Size\n"
     ]
    },
    {
     "name": "stderr",
     "output_type": "stream",
     "text": [
      "      19/75      2.16G      1.138     0.5457      1.112         27        640: 100%|██████████| 796/796 [03:47<00:00,  3.50it/s]\n",
      "                 Class     Images  Instances      Box(P          R      mAP50  mAP50-95): 100%|██████████| 34/34 [00:07<00:00,  4.83it/s]\n"
     ]
    },
    {
     "name": "stdout",
     "output_type": "stream",
     "text": [
      "                   all       1073       1573      0.846      0.759       0.81      0.426\n",
      "\n",
      "      Epoch    GPU_mem   box_loss   cls_loss   dfl_loss  Instances       Size\n"
     ]
    },
    {
     "name": "stderr",
     "output_type": "stream",
     "text": [
      "      20/75      2.16G       1.13     0.5375      1.111         31        640: 100%|██████████| 796/796 [03:46<00:00,  3.51it/s]\n",
      "                 Class     Images  Instances      Box(P          R      mAP50  mAP50-95): 100%|██████████| 34/34 [00:06<00:00,  5.08it/s]\n"
     ]
    },
    {
     "name": "stdout",
     "output_type": "stream",
     "text": [
      "                   all       1073       1573      0.854      0.769      0.821       0.43\n",
      "\n",
      "      Epoch    GPU_mem   box_loss   cls_loss   dfl_loss  Instances       Size\n"
     ]
    },
    {
     "name": "stderr",
     "output_type": "stream",
     "text": [
      "      21/75      2.16G      1.119     0.5329      1.103         28        640: 100%|██████████| 796/796 [03:43<00:00,  3.56it/s]\n",
      "                 Class     Images  Instances      Box(P          R      mAP50  mAP50-95): 100%|██████████| 34/34 [00:07<00:00,  4.81it/s]\n"
     ]
    },
    {
     "name": "stdout",
     "output_type": "stream",
     "text": [
      "                   all       1073       1573      0.851      0.772      0.816      0.434\n",
      "\n",
      "      Epoch    GPU_mem   box_loss   cls_loss   dfl_loss  Instances       Size\n"
     ]
    },
    {
     "name": "stderr",
     "output_type": "stream",
     "text": [
      "      22/75      2.16G      1.125     0.5324      1.106         26        640: 100%|██████████| 796/796 [03:44<00:00,  3.54it/s]\n",
      "                 Class     Images  Instances      Box(P          R      mAP50  mAP50-95): 100%|██████████| 34/34 [00:06<00:00,  5.02it/s]\n"
     ]
    },
    {
     "name": "stdout",
     "output_type": "stream",
     "text": [
      "                   all       1073       1573      0.849      0.779      0.826      0.436\n",
      "\n",
      "      Epoch    GPU_mem   box_loss   cls_loss   dfl_loss  Instances       Size\n"
     ]
    },
    {
     "name": "stderr",
     "output_type": "stream",
     "text": [
      "      23/75      2.16G      1.119     0.5244      1.101         21        640: 100%|██████████| 796/796 [03:43<00:00,  3.55it/s]\n",
      "                 Class     Images  Instances      Box(P          R      mAP50  mAP50-95): 100%|██████████| 34/34 [00:07<00:00,  4.67it/s]\n"
     ]
    },
    {
     "name": "stdout",
     "output_type": "stream",
     "text": [
      "                   all       1073       1573      0.856      0.772      0.825      0.436\n",
      "\n",
      "      Epoch    GPU_mem   box_loss   cls_loss   dfl_loss  Instances       Size\n"
     ]
    },
    {
     "name": "stderr",
     "output_type": "stream",
     "text": [
      "      24/75      2.16G      1.115     0.5199      1.099         27        640: 100%|██████████| 796/796 [03:47<00:00,  3.50it/s]\n",
      "                 Class     Images  Instances      Box(P          R      mAP50  mAP50-95): 100%|██████████| 34/34 [00:06<00:00,  5.07it/s]\n"
     ]
    },
    {
     "name": "stdout",
     "output_type": "stream",
     "text": [
      "                   all       1073       1573      0.857       0.78      0.829      0.442\n",
      "\n",
      "      Epoch    GPU_mem   box_loss   cls_loss   dfl_loss  Instances       Size\n"
     ]
    },
    {
     "name": "stderr",
     "output_type": "stream",
     "text": [
      "      25/75      2.16G      1.124     0.5261      1.098         23        640: 100%|██████████| 796/796 [03:47<00:00,  3.49it/s]\n",
      "                 Class     Images  Instances      Box(P          R      mAP50  mAP50-95): 100%|██████████| 34/34 [00:06<00:00,  4.88it/s]\n"
     ]
    },
    {
     "name": "stdout",
     "output_type": "stream",
     "text": [
      "                   all       1073       1573      0.859       0.77      0.832      0.445\n",
      "\n",
      "      Epoch    GPU_mem   box_loss   cls_loss   dfl_loss  Instances       Size\n"
     ]
    },
    {
     "name": "stderr",
     "output_type": "stream",
     "text": [
      "      26/75      2.16G      1.114     0.5182      1.097         19        640: 100%|██████████| 796/796 [03:46<00:00,  3.52it/s]\n",
      "                 Class     Images  Instances      Box(P          R      mAP50  mAP50-95): 100%|██████████| 34/34 [00:06<00:00,  5.13it/s]\n"
     ]
    },
    {
     "name": "stdout",
     "output_type": "stream",
     "text": [
      "                   all       1073       1573      0.842      0.774       0.83      0.442\n",
      "\n",
      "      Epoch    GPU_mem   box_loss   cls_loss   dfl_loss  Instances       Size\n"
     ]
    },
    {
     "name": "stderr",
     "output_type": "stream",
     "text": [
      "      27/75      2.16G      1.104     0.5126      1.094         26        640: 100%|██████████| 796/796 [03:43<00:00,  3.56it/s]\n",
      "                 Class     Images  Instances      Box(P          R      mAP50  mAP50-95): 100%|██████████| 34/34 [00:07<00:00,  4.84it/s]\n"
     ]
    },
    {
     "name": "stdout",
     "output_type": "stream",
     "text": [
      "                   all       1073       1573      0.844       0.78      0.832      0.443\n",
      "\n",
      "      Epoch    GPU_mem   box_loss   cls_loss   dfl_loss  Instances       Size\n"
     ]
    },
    {
     "name": "stderr",
     "output_type": "stream",
     "text": [
      "      28/75      2.16G      1.104      0.508      1.094         36        640: 100%|██████████| 796/796 [03:44<00:00,  3.55it/s]\n",
      "                 Class     Images  Instances      Box(P          R      mAP50  mAP50-95): 100%|██████████| 34/34 [00:06<00:00,  5.05it/s]\n"
     ]
    },
    {
     "name": "stdout",
     "output_type": "stream",
     "text": [
      "                   all       1073       1573      0.845      0.785      0.835      0.445\n",
      "\n",
      "      Epoch    GPU_mem   box_loss   cls_loss   dfl_loss  Instances       Size\n"
     ]
    },
    {
     "name": "stderr",
     "output_type": "stream",
     "text": [
      "      29/75      2.16G      1.106     0.5069      1.092         33        640: 100%|██████████| 796/796 [03:43<00:00,  3.57it/s]\n",
      "                 Class     Images  Instances      Box(P          R      mAP50  mAP50-95): 100%|██████████| 34/34 [00:06<00:00,  4.93it/s]\n"
     ]
    },
    {
     "name": "stdout",
     "output_type": "stream",
     "text": [
      "                   all       1073       1573      0.847      0.787      0.833      0.446\n",
      "\n",
      "      Epoch    GPU_mem   box_loss   cls_loss   dfl_loss  Instances       Size\n"
     ]
    },
    {
     "name": "stderr",
     "output_type": "stream",
     "text": [
      "      30/75      2.16G      1.106     0.5077      1.095         23        640: 100%|██████████| 796/796 [03:44<00:00,  3.55it/s]\n",
      "                 Class     Images  Instances      Box(P          R      mAP50  mAP50-95): 100%|██████████| 34/34 [00:07<00:00,  4.85it/s]\n"
     ]
    },
    {
     "name": "stdout",
     "output_type": "stream",
     "text": [
      "                   all       1073       1573      0.856      0.791      0.839      0.447\n",
      "\n",
      "      Epoch    GPU_mem   box_loss   cls_loss   dfl_loss  Instances       Size\n"
     ]
    },
    {
     "name": "stderr",
     "output_type": "stream",
     "text": [
      "      31/75      2.16G      1.095     0.5032      1.093         30        640: 100%|██████████| 796/796 [03:41<00:00,  3.59it/s]\n",
      "                 Class     Images  Instances      Box(P          R      mAP50  mAP50-95): 100%|██████████| 34/34 [00:06<00:00,  5.25it/s]\n"
     ]
    },
    {
     "name": "stdout",
     "output_type": "stream",
     "text": [
      "                   all       1073       1573      0.847      0.795      0.841      0.447\n",
      "\n",
      "      Epoch    GPU_mem   box_loss   cls_loss   dfl_loss  Instances       Size\n"
     ]
    },
    {
     "name": "stderr",
     "output_type": "stream",
     "text": [
      "      32/75      2.16G      1.095      0.498      1.088         30        640: 100%|██████████| 796/796 [03:44<00:00,  3.55it/s]\n",
      "                 Class     Images  Instances      Box(P          R      mAP50  mAP50-95): 100%|██████████| 34/34 [00:06<00:00,  4.95it/s]\n"
     ]
    },
    {
     "name": "stdout",
     "output_type": "stream",
     "text": [
      "                   all       1073       1573      0.854      0.793      0.844      0.448\n",
      "\n",
      "      Epoch    GPU_mem   box_loss   cls_loss   dfl_loss  Instances       Size\n"
     ]
    },
    {
     "name": "stderr",
     "output_type": "stream",
     "text": [
      "      33/75      2.16G      1.091     0.4985       1.09         24        640: 100%|██████████| 796/796 [03:43<00:00,  3.56it/s]\n",
      "                 Class     Images  Instances      Box(P          R      mAP50  mAP50-95): 100%|██████████| 34/34 [00:06<00:00,  4.87it/s]\n"
     ]
    },
    {
     "name": "stdout",
     "output_type": "stream",
     "text": [
      "                   all       1073       1573      0.843      0.795      0.842       0.45\n",
      "\n",
      "      Epoch    GPU_mem   box_loss   cls_loss   dfl_loss  Instances       Size\n"
     ]
    },
    {
     "name": "stderr",
     "output_type": "stream",
     "text": [
      "      34/75      2.16G      1.089     0.4924      1.084         20        640: 100%|██████████| 796/796 [03:43<00:00,  3.57it/s]\n",
      "                 Class     Images  Instances      Box(P          R      mAP50  mAP50-95): 100%|██████████| 34/34 [00:06<00:00,  5.06it/s]\n"
     ]
    },
    {
     "name": "stdout",
     "output_type": "stream",
     "text": [
      "                   all       1073       1573      0.834        0.8      0.842       0.45\n",
      "\n",
      "      Epoch    GPU_mem   box_loss   cls_loss   dfl_loss  Instances       Size\n"
     ]
    },
    {
     "name": "stderr",
     "output_type": "stream",
     "text": [
      "      35/75      2.16G      1.081     0.4922      1.081         34        640: 100%|██████████| 796/796 [03:42<00:00,  3.58it/s]\n",
      "                 Class     Images  Instances      Box(P          R      mAP50  mAP50-95): 100%|██████████| 34/34 [00:06<00:00,  4.98it/s]\n"
     ]
    },
    {
     "name": "stdout",
     "output_type": "stream",
     "text": [
      "                   all       1073       1573      0.837      0.802      0.845       0.45\n",
      "\n",
      "      Epoch    GPU_mem   box_loss   cls_loss   dfl_loss  Instances       Size\n"
     ]
    },
    {
     "name": "stderr",
     "output_type": "stream",
     "text": [
      "      36/75      2.17G      1.078     0.4862      1.086         28        640: 100%|██████████| 796/796 [03:42<00:00,  3.58it/s]\n",
      "                 Class     Images  Instances      Box(P          R      mAP50  mAP50-95): 100%|██████████| 34/34 [00:06<00:00,  5.09it/s]\n"
     ]
    },
    {
     "name": "stdout",
     "output_type": "stream",
     "text": [
      "                   all       1073       1573      0.837      0.809      0.846      0.453\n",
      "\n",
      "      Epoch    GPU_mem   box_loss   cls_loss   dfl_loss  Instances       Size\n"
     ]
    },
    {
     "name": "stderr",
     "output_type": "stream",
     "text": [
      "      37/75      2.17G      1.081     0.4893      1.077         29        640: 100%|██████████| 796/796 [03:46<00:00,  3.52it/s]\n",
      "                 Class     Images  Instances      Box(P          R      mAP50  mAP50-95): 100%|██████████| 34/34 [00:08<00:00,  4.22it/s]\n"
     ]
    },
    {
     "name": "stdout",
     "output_type": "stream",
     "text": [
      "                   all       1073       1573      0.844      0.801      0.845      0.455\n",
      "\n",
      "      Epoch    GPU_mem   box_loss   cls_loss   dfl_loss  Instances       Size\n"
     ]
    },
    {
     "name": "stderr",
     "output_type": "stream",
     "text": [
      "      38/75      2.16G      1.075     0.4846      1.084         21        640: 100%|██████████| 796/796 [03:45<00:00,  3.52it/s]\n",
      "                 Class     Images  Instances      Box(P          R      mAP50  mAP50-95): 100%|██████████| 34/34 [00:07<00:00,  4.71it/s]\n"
     ]
    },
    {
     "name": "stdout",
     "output_type": "stream",
     "text": [
      "                   all       1073       1573      0.844        0.8      0.846      0.455\n",
      "\n",
      "      Epoch    GPU_mem   box_loss   cls_loss   dfl_loss  Instances       Size\n"
     ]
    },
    {
     "name": "stderr",
     "output_type": "stream",
     "text": [
      "      39/75      2.16G      1.077     0.4821       1.08         20        640: 100%|██████████| 796/796 [03:46<00:00,  3.51it/s]\n",
      "                 Class     Images  Instances      Box(P          R      mAP50  mAP50-95): 100%|██████████| 34/34 [00:07<00:00,  4.63it/s]\n"
     ]
    },
    {
     "name": "stdout",
     "output_type": "stream",
     "text": [
      "                   all       1073       1573      0.848      0.801      0.846      0.454\n",
      "\n",
      "      Epoch    GPU_mem   box_loss   cls_loss   dfl_loss  Instances       Size\n"
     ]
    },
    {
     "name": "stderr",
     "output_type": "stream",
     "text": [
      "      40/75      2.16G      1.071     0.4781      1.079         20        640: 100%|██████████| 796/796 [03:44<00:00,  3.54it/s]\n",
      "                 Class     Images  Instances      Box(P          R      mAP50  mAP50-95): 100%|██████████| 34/34 [00:06<00:00,  4.93it/s]\n"
     ]
    },
    {
     "name": "stdout",
     "output_type": "stream",
     "text": [
      "                   all       1073       1573      0.842      0.802      0.844      0.454\n",
      "\n",
      "      Epoch    GPU_mem   box_loss   cls_loss   dfl_loss  Instances       Size\n"
     ]
    },
    {
     "name": "stderr",
     "output_type": "stream",
     "text": [
      "      41/75      2.16G      1.077     0.4782      1.074         28        640: 100%|██████████| 796/796 [03:44<00:00,  3.54it/s]\n",
      "                 Class     Images  Instances      Box(P          R      mAP50  mAP50-95): 100%|██████████| 34/34 [00:06<00:00,  4.86it/s]\n"
     ]
    },
    {
     "name": "stdout",
     "output_type": "stream",
     "text": [
      "                   all       1073       1573      0.844      0.805      0.846      0.456\n",
      "\n",
      "      Epoch    GPU_mem   box_loss   cls_loss   dfl_loss  Instances       Size\n"
     ]
    },
    {
     "name": "stderr",
     "output_type": "stream",
     "text": [
      "      42/75      2.16G      1.063     0.4703      1.072         36        640: 100%|██████████| 796/796 [03:44<00:00,  3.54it/s]\n",
      "                 Class     Images  Instances      Box(P          R      mAP50  mAP50-95): 100%|██████████| 34/34 [00:06<00:00,  5.01it/s]\n"
     ]
    },
    {
     "name": "stdout",
     "output_type": "stream",
     "text": [
      "                   all       1073       1573      0.846      0.805      0.845      0.456\n",
      "\n",
      "      Epoch    GPU_mem   box_loss   cls_loss   dfl_loss  Instances       Size\n"
     ]
    },
    {
     "name": "stderr",
     "output_type": "stream",
     "text": [
      "      43/75      2.16G      1.066     0.4716       1.07         22        640: 100%|██████████| 796/796 [03:42<00:00,  3.57it/s]\n",
      "                 Class     Images  Instances      Box(P          R      mAP50  mAP50-95): 100%|██████████| 34/34 [00:07<00:00,  4.66it/s]\n"
     ]
    },
    {
     "name": "stdout",
     "output_type": "stream",
     "text": [
      "                   all       1073       1573      0.843      0.807      0.846      0.456\n",
      "\n",
      "      Epoch    GPU_mem   box_loss   cls_loss   dfl_loss  Instances       Size\n"
     ]
    },
    {
     "name": "stderr",
     "output_type": "stream",
     "text": [
      "      44/75      2.16G      1.065     0.4738      1.074         28        640: 100%|██████████| 796/796 [03:43<00:00,  3.56it/s]\n",
      "                 Class     Images  Instances      Box(P          R      mAP50  mAP50-95): 100%|██████████| 34/34 [00:07<00:00,  4.85it/s]\n"
     ]
    },
    {
     "name": "stdout",
     "output_type": "stream",
     "text": [
      "                   all       1073       1573       0.84      0.807      0.844      0.456\n",
      "\n",
      "      Epoch    GPU_mem   box_loss   cls_loss   dfl_loss  Instances       Size\n"
     ]
    },
    {
     "name": "stderr",
     "output_type": "stream",
     "text": [
      "      45/75      2.16G      1.059     0.4702      1.074         23        640: 100%|██████████| 796/796 [03:44<00:00,  3.54it/s]\n",
      "                 Class     Images  Instances      Box(P          R      mAP50  mAP50-95): 100%|██████████| 34/34 [00:06<00:00,  5.23it/s]\n"
     ]
    },
    {
     "name": "stdout",
     "output_type": "stream",
     "text": [
      "                   all       1073       1573      0.841      0.808      0.847      0.457\n",
      "\n",
      "      Epoch    GPU_mem   box_loss   cls_loss   dfl_loss  Instances       Size\n"
     ]
    },
    {
     "name": "stderr",
     "output_type": "stream",
     "text": [
      "      46/75      2.16G      1.058     0.4656      1.069         34        640: 100%|██████████| 796/796 [03:44<00:00,  3.55it/s]\n",
      "                 Class     Images  Instances      Box(P          R      mAP50  mAP50-95): 100%|██████████| 34/34 [00:07<00:00,  4.63it/s]\n"
     ]
    },
    {
     "name": "stdout",
     "output_type": "stream",
     "text": [
      "                   all       1073       1573      0.841      0.807      0.847      0.457\n",
      "\n",
      "      Epoch    GPU_mem   box_loss   cls_loss   dfl_loss  Instances       Size\n"
     ]
    },
    {
     "name": "stderr",
     "output_type": "stream",
     "text": [
      "      47/75      2.16G      1.051     0.4598      1.064         18        640: 100%|██████████| 796/796 [03:44<00:00,  3.55it/s]\n",
      "                 Class     Images  Instances      Box(P          R      mAP50  mAP50-95): 100%|██████████| 34/34 [00:06<00:00,  4.95it/s]\n"
     ]
    },
    {
     "name": "stdout",
     "output_type": "stream",
     "text": [
      "                   all       1073       1573      0.842      0.809      0.848      0.458\n",
      "\n",
      "      Epoch    GPU_mem   box_loss   cls_loss   dfl_loss  Instances       Size\n"
     ]
    },
    {
     "name": "stderr",
     "output_type": "stream",
     "text": [
      "      48/75      2.16G      1.051      0.458      1.068         29        640: 100%|██████████| 796/796 [03:44<00:00,  3.55it/s]\n",
      "                 Class     Images  Instances      Box(P          R      mAP50  mAP50-95): 100%|██████████| 34/34 [00:06<00:00,  4.95it/s]\n"
     ]
    },
    {
     "name": "stdout",
     "output_type": "stream",
     "text": [
      "                   all       1073       1573      0.841      0.807      0.849      0.459\n",
      "\n",
      "      Epoch    GPU_mem   box_loss   cls_loss   dfl_loss  Instances       Size\n"
     ]
    },
    {
     "name": "stderr",
     "output_type": "stream",
     "text": [
      "      49/75      2.17G      1.047     0.4564      1.073         25        640: 100%|██████████| 796/796 [03:42<00:00,  3.58it/s]\n",
      "                 Class     Images  Instances      Box(P          R      mAP50  mAP50-95): 100%|██████████| 34/34 [00:07<00:00,  4.34it/s]\n"
     ]
    },
    {
     "name": "stdout",
     "output_type": "stream",
     "text": [
      "                   all       1073       1573      0.845       0.81      0.851      0.459\n",
      "\n",
      "      Epoch    GPU_mem   box_loss   cls_loss   dfl_loss  Instances       Size\n"
     ]
    },
    {
     "name": "stderr",
     "output_type": "stream",
     "text": [
      "      50/75      2.16G       1.05     0.4556      1.067         26        640: 100%|██████████| 796/796 [03:42<00:00,  3.58it/s]\n",
      "                 Class     Images  Instances      Box(P          R      mAP50  mAP50-95): 100%|██████████| 34/34 [00:06<00:00,  5.14it/s]\n"
     ]
    },
    {
     "name": "stdout",
     "output_type": "stream",
     "text": [
      "                   all       1073       1573      0.845      0.809      0.852       0.46\n",
      "\n",
      "      Epoch    GPU_mem   box_loss   cls_loss   dfl_loss  Instances       Size\n"
     ]
    },
    {
     "name": "stderr",
     "output_type": "stream",
     "text": [
      "      51/75      2.18G      1.045     0.4547      1.065         34        640: 100%|██████████| 796/796 [03:41<00:00,  3.59it/s]\n",
      "                 Class     Images  Instances      Box(P          R      mAP50  mAP50-95): 100%|██████████| 34/34 [00:07<00:00,  4.76it/s]\n"
     ]
    },
    {
     "name": "stdout",
     "output_type": "stream",
     "text": [
      "                   all       1073       1573      0.846      0.808      0.852       0.46\n",
      "\n",
      "      Epoch    GPU_mem   box_loss   cls_loss   dfl_loss  Instances       Size\n"
     ]
    },
    {
     "name": "stderr",
     "output_type": "stream",
     "text": [
      "      52/75      2.16G      1.038     0.4475      1.062         29        640: 100%|██████████| 796/796 [03:41<00:00,  3.59it/s]\n",
      "                 Class     Images  Instances      Box(P          R      mAP50  mAP50-95): 100%|██████████| 34/34 [00:06<00:00,  5.22it/s]\n"
     ]
    },
    {
     "name": "stdout",
     "output_type": "stream",
     "text": [
      "                   all       1073       1573      0.847      0.807      0.852      0.461\n",
      "\n",
      "      Epoch    GPU_mem   box_loss   cls_loss   dfl_loss  Instances       Size\n"
     ]
    },
    {
     "name": "stderr",
     "output_type": "stream",
     "text": [
      "      53/75      2.16G      1.041     0.4495      1.059         24        640: 100%|██████████| 796/796 [03:42<00:00,  3.57it/s]\n",
      "                 Class     Images  Instances      Box(P          R      mAP50  mAP50-95): 100%|██████████| 34/34 [00:06<00:00,  4.93it/s]\n"
     ]
    },
    {
     "name": "stdout",
     "output_type": "stream",
     "text": [
      "                   all       1073       1573      0.848      0.808      0.852      0.462\n",
      "\n",
      "      Epoch    GPU_mem   box_loss   cls_loss   dfl_loss  Instances       Size\n"
     ]
    },
    {
     "name": "stderr",
     "output_type": "stream",
     "text": [
      "      54/75      2.16G      1.035     0.4479      1.057         29        640: 100%|██████████| 796/796 [03:42<00:00,  3.58it/s]\n",
      "                 Class     Images  Instances      Box(P          R      mAP50  mAP50-95): 100%|██████████| 34/34 [00:06<00:00,  5.04it/s]\n"
     ]
    },
    {
     "name": "stdout",
     "output_type": "stream",
     "text": [
      "                   all       1073       1573      0.849      0.806      0.853      0.462\n",
      "\n",
      "      Epoch    GPU_mem   box_loss   cls_loss   dfl_loss  Instances       Size\n"
     ]
    },
    {
     "name": "stderr",
     "output_type": "stream",
     "text": [
      "      55/75      2.16G      1.033     0.4449      1.058         26        640: 100%|██████████| 796/796 [03:43<00:00,  3.56it/s]\n",
      "                 Class     Images  Instances      Box(P          R      mAP50  mAP50-95): 100%|██████████| 34/34 [00:07<00:00,  4.73it/s]\n"
     ]
    },
    {
     "name": "stdout",
     "output_type": "stream",
     "text": [
      "                   all       1073       1573      0.848      0.807      0.852      0.462\n",
      "\n",
      "      Epoch    GPU_mem   box_loss   cls_loss   dfl_loss  Instances       Size\n"
     ]
    },
    {
     "name": "stderr",
     "output_type": "stream",
     "text": [
      "      56/75      2.16G       1.02     0.4389      1.051         43        640: 100%|██████████| 796/796 [03:42<00:00,  3.58it/s]\n",
      "                 Class     Images  Instances      Box(P          R      mAP50  mAP50-95): 100%|██████████| 34/34 [00:06<00:00,  4.89it/s]\n"
     ]
    },
    {
     "name": "stdout",
     "output_type": "stream",
     "text": [
      "                   all       1073       1573      0.847      0.805      0.852      0.462\n",
      "\n",
      "      Epoch    GPU_mem   box_loss   cls_loss   dfl_loss  Instances       Size\n"
     ]
    },
    {
     "name": "stderr",
     "output_type": "stream",
     "text": [
      "      57/75      2.16G      1.021     0.4444      1.051         23        640: 100%|██████████| 796/796 [03:42<00:00,  3.57it/s]\n",
      "                 Class     Images  Instances      Box(P          R      mAP50  mAP50-95): 100%|██████████| 34/34 [00:07<00:00,  4.69it/s]\n"
     ]
    },
    {
     "name": "stdout",
     "output_type": "stream",
     "text": [
      "                   all       1073       1573      0.848      0.804      0.853      0.463\n",
      "\n",
      "      Epoch    GPU_mem   box_loss   cls_loss   dfl_loss  Instances       Size\n"
     ]
    },
    {
     "name": "stderr",
     "output_type": "stream",
     "text": [
      "      58/75      2.16G      1.022     0.4348      1.054         37        640: 100%|██████████| 796/796 [03:42<00:00,  3.57it/s]\n",
      "                 Class     Images  Instances      Box(P          R      mAP50  mAP50-95): 100%|██████████| 34/34 [00:06<00:00,  5.19it/s]\n"
     ]
    },
    {
     "name": "stdout",
     "output_type": "stream",
     "text": [
      "                   all       1073       1573      0.846      0.806      0.852      0.463\n",
      "\n",
      "      Epoch    GPU_mem   box_loss   cls_loss   dfl_loss  Instances       Size\n"
     ]
    },
    {
     "name": "stderr",
     "output_type": "stream",
     "text": [
      "      59/75      2.16G       1.02     0.4318      1.051         21        640: 100%|██████████| 796/796 [03:43<00:00,  3.57it/s]\n",
      "                 Class     Images  Instances      Box(P          R      mAP50  mAP50-95): 100%|██████████| 34/34 [00:07<00:00,  4.53it/s]\n"
     ]
    },
    {
     "name": "stdout",
     "output_type": "stream",
     "text": [
      "                   all       1073       1573      0.846      0.805      0.852      0.464\n",
      "\n",
      "      Epoch    GPU_mem   box_loss   cls_loss   dfl_loss  Instances       Size\n"
     ]
    },
    {
     "name": "stderr",
     "output_type": "stream",
     "text": [
      "      60/75      2.16G      1.018     0.4328      1.053         19        640: 100%|██████████| 796/796 [03:44<00:00,  3.55it/s]\n",
      "                 Class     Images  Instances      Box(P          R      mAP50  mAP50-95): 100%|██████████| 34/34 [00:06<00:00,  4.94it/s]\n"
     ]
    },
    {
     "name": "stdout",
     "output_type": "stream",
     "text": [
      "                   all       1073       1573      0.848      0.806      0.855      0.464\n",
      "\n",
      "      Epoch    GPU_mem   box_loss   cls_loss   dfl_loss  Instances       Size\n"
     ]
    },
    {
     "name": "stderr",
     "output_type": "stream",
     "text": [
      "      61/75      2.16G     0.9979     0.4246      1.041         25        640: 100%|██████████| 796/796 [03:42<00:00,  3.57it/s]\n",
      "                 Class     Images  Instances      Box(P          R      mAP50  mAP50-95): 100%|██████████| 34/34 [00:07<00:00,  4.50it/s]\n"
     ]
    },
    {
     "name": "stdout",
     "output_type": "stream",
     "text": [
      "                   all       1073       1573      0.847      0.806      0.855      0.465\n",
      "\n",
      "      Epoch    GPU_mem   box_loss   cls_loss   dfl_loss  Instances       Size\n"
     ]
    },
    {
     "name": "stderr",
     "output_type": "stream",
     "text": [
      "      62/75      2.16G       1.01     0.4271      1.045         27        640: 100%|██████████| 796/796 [03:44<00:00,  3.54it/s]\n",
      "                 Class     Images  Instances      Box(P          R      mAP50  mAP50-95): 100%|██████████| 34/34 [00:06<00:00,  5.01it/s]\n"
     ]
    },
    {
     "name": "stdout",
     "output_type": "stream",
     "text": [
      "                   all       1073       1573      0.851      0.806      0.855      0.464\n",
      "\n",
      "      Epoch    GPU_mem   box_loss   cls_loss   dfl_loss  Instances       Size\n"
     ]
    },
    {
     "name": "stderr",
     "output_type": "stream",
     "text": [
      "      63/75      2.16G      1.004     0.4233      1.043         24        640: 100%|██████████| 796/796 [03:45<00:00,  3.53it/s]\n",
      "                 Class     Images  Instances      Box(P          R      mAP50  mAP50-95): 100%|██████████| 34/34 [00:06<00:00,  5.11it/s]\n"
     ]
    },
    {
     "name": "stdout",
     "output_type": "stream",
     "text": [
      "                   all       1073       1573      0.851      0.805      0.855      0.464\n",
      "\n",
      "      Epoch    GPU_mem   box_loss   cls_loss   dfl_loss  Instances       Size\n"
     ]
    },
    {
     "name": "stderr",
     "output_type": "stream",
     "text": [
      "      64/75      2.16G     0.9953     0.4193      1.044         30        640: 100%|██████████| 796/796 [03:47<00:00,  3.51it/s]\n",
      "                 Class     Images  Instances      Box(P          R      mAP50  mAP50-95): 100%|██████████| 34/34 [00:06<00:00,  5.10it/s]\n"
     ]
    },
    {
     "name": "stdout",
     "output_type": "stream",
     "text": [
      "                   all       1073       1573      0.853      0.806      0.857      0.464\n",
      "\n",
      "      Epoch    GPU_mem   box_loss   cls_loss   dfl_loss  Instances       Size\n"
     ]
    },
    {
     "name": "stderr",
     "output_type": "stream",
     "text": [
      "      65/75      2.16G     0.9968     0.4169      1.041         29        640: 100%|██████████| 796/796 [03:46<00:00,  3.52it/s]\n",
      "                 Class     Images  Instances      Box(P          R      mAP50  mAP50-95): 100%|██████████| 34/34 [00:07<00:00,  4.68it/s]\n"
     ]
    },
    {
     "name": "stdout",
     "output_type": "stream",
     "text": [
      "                   all       1073       1573      0.852      0.805      0.854      0.463\n",
      "Closing dataloader mosaic\n",
      "\u001b[34m\u001b[1malbumentations: \u001b[0mBlur(p=0.01, blur_limit=(3, 7)), MedianBlur(p=0.01, blur_limit=(3, 7)), ToGray(p=0.01, num_output_channels=3, method='weighted_average'), CLAHE(p=0.01, clip_limit=(1, 4.0), tile_grid_size=(8, 8))\n"
     ]
    },
    {
     "name": "stderr",
     "output_type": "stream",
     "text": [
      "/opt/conda/lib/python3.10/multiprocessing/popen_fork.py:66: RuntimeWarning: os.fork() was called. os.fork() is incompatible with multithreaded code, and JAX is multithreaded, so this will likely lead to a deadlock.\n",
      "  self.pid = os.fork()\n"
     ]
    },
    {
     "name": "stdout",
     "output_type": "stream",
     "text": [
      "\n",
      "      Epoch    GPU_mem   box_loss   cls_loss   dfl_loss  Instances       Size\n"
     ]
    },
    {
     "name": "stderr",
     "output_type": "stream",
     "text": [
      "      66/75      2.16G     0.9724     0.3702      1.057         15        640: 100%|██████████| 796/796 [03:37<00:00,  3.67it/s]\n",
      "                 Class     Images  Instances      Box(P          R      mAP50  mAP50-95): 100%|██████████| 34/34 [00:06<00:00,  4.91it/s]\n"
     ]
    },
    {
     "name": "stdout",
     "output_type": "stream",
     "text": [
      "                   all       1073       1573      0.855      0.803      0.854      0.464\n",
      "\n",
      "      Epoch    GPU_mem   box_loss   cls_loss   dfl_loss  Instances       Size\n"
     ]
    },
    {
     "name": "stderr",
     "output_type": "stream",
     "text": [
      "      67/75      2.16G     0.9662     0.3686      1.058         14        640: 100%|██████████| 796/796 [03:37<00:00,  3.67it/s]\n",
      "                 Class     Images  Instances      Box(P          R      mAP50  mAP50-95): 100%|██████████| 34/34 [00:07<00:00,  4.48it/s]\n"
     ]
    },
    {
     "name": "stdout",
     "output_type": "stream",
     "text": [
      "                   all       1073       1573      0.856      0.801      0.854      0.465\n",
      "\n",
      "      Epoch    GPU_mem   box_loss   cls_loss   dfl_loss  Instances       Size\n"
     ]
    },
    {
     "name": "stderr",
     "output_type": "stream",
     "text": [
      "      68/75      2.16G     0.9618     0.3636      1.052         15        640: 100%|██████████| 796/796 [03:39<00:00,  3.63it/s]\n",
      "                 Class     Images  Instances      Box(P          R      mAP50  mAP50-95): 100%|██████████| 34/34 [00:07<00:00,  4.79it/s]\n"
     ]
    },
    {
     "name": "stdout",
     "output_type": "stream",
     "text": [
      "                   all       1073       1573      0.854      0.804      0.855      0.465\n",
      "\n",
      "      Epoch    GPU_mem   box_loss   cls_loss   dfl_loss  Instances       Size\n"
     ]
    },
    {
     "name": "stderr",
     "output_type": "stream",
     "text": [
      "      69/75      2.16G     0.9528      0.361      1.048         16        640: 100%|██████████| 796/796 [03:35<00:00,  3.69it/s]\n",
      "                 Class     Images  Instances      Box(P          R      mAP50  mAP50-95): 100%|██████████| 34/34 [00:06<00:00,  5.01it/s]\n"
     ]
    },
    {
     "name": "stdout",
     "output_type": "stream",
     "text": [
      "                   all       1073       1573      0.854      0.802      0.856      0.465\n",
      "\n",
      "      Epoch    GPU_mem   box_loss   cls_loss   dfl_loss  Instances       Size\n"
     ]
    },
    {
     "name": "stderr",
     "output_type": "stream",
     "text": [
      "      70/75      2.16G     0.9537     0.3584      1.045         16        640: 100%|██████████| 796/796 [03:36<00:00,  3.68it/s]\n",
      "                 Class     Images  Instances      Box(P          R      mAP50  mAP50-95): 100%|██████████| 34/34 [00:07<00:00,  4.66it/s]\n"
     ]
    },
    {
     "name": "stdout",
     "output_type": "stream",
     "text": [
      "                   all       1073       1573      0.852      0.804      0.855      0.466\n",
      "\n",
      "      Epoch    GPU_mem   box_loss   cls_loss   dfl_loss  Instances       Size\n"
     ]
    },
    {
     "name": "stderr",
     "output_type": "stream",
     "text": [
      "      71/75      2.16G     0.9435     0.3565      1.045         15        640: 100%|██████████| 796/796 [03:35<00:00,  3.69it/s]\n",
      "                 Class     Images  Instances      Box(P          R      mAP50  mAP50-95): 100%|██████████| 34/34 [00:07<00:00,  4.69it/s]\n"
     ]
    },
    {
     "name": "stdout",
     "output_type": "stream",
     "text": [
      "                   all       1073       1573      0.853      0.804      0.855      0.465\n",
      "\n",
      "      Epoch    GPU_mem   box_loss   cls_loss   dfl_loss  Instances       Size\n"
     ]
    },
    {
     "name": "stderr",
     "output_type": "stream",
     "text": [
      "      72/75      2.16G     0.9464     0.3529      1.043         15        640: 100%|██████████| 796/796 [03:36<00:00,  3.68it/s]\n",
      "                 Class     Images  Instances      Box(P          R      mAP50  mAP50-95): 100%|██████████| 34/34 [00:06<00:00,  5.00it/s]\n"
     ]
    },
    {
     "name": "stdout",
     "output_type": "stream",
     "text": [
      "                   all       1073       1573      0.854      0.804      0.855      0.466\n",
      "\n",
      "      Epoch    GPU_mem   box_loss   cls_loss   dfl_loss  Instances       Size\n"
     ]
    },
    {
     "name": "stderr",
     "output_type": "stream",
     "text": [
      "      73/75      2.16G     0.9326     0.3485      1.041         15        640: 100%|██████████| 796/796 [03:35<00:00,  3.70it/s]\n",
      "                 Class     Images  Instances      Box(P          R      mAP50  mAP50-95): 100%|██████████| 34/34 [00:06<00:00,  4.89it/s]\n"
     ]
    },
    {
     "name": "stdout",
     "output_type": "stream",
     "text": [
      "                   all       1073       1573      0.857      0.802      0.856      0.466\n",
      "\n",
      "      Epoch    GPU_mem   box_loss   cls_loss   dfl_loss  Instances       Size\n"
     ]
    },
    {
     "name": "stderr",
     "output_type": "stream",
     "text": [
      "      74/75      2.16G     0.9302      0.346       1.04         16        640: 100%|██████████| 796/796 [03:34<00:00,  3.71it/s]\n",
      "                 Class     Images  Instances      Box(P          R      mAP50  mAP50-95): 100%|██████████| 34/34 [00:07<00:00,  4.42it/s]\n"
     ]
    },
    {
     "name": "stdout",
     "output_type": "stream",
     "text": [
      "                   all       1073       1573       0.85      0.805      0.854      0.467\n",
      "\n",
      "      Epoch    GPU_mem   box_loss   cls_loss   dfl_loss  Instances       Size\n"
     ]
    },
    {
     "name": "stderr",
     "output_type": "stream",
     "text": [
      "      75/75      2.16G     0.9291     0.3453      1.036         18        640: 100%|██████████| 796/796 [03:34<00:00,  3.72it/s]\n",
      "                 Class     Images  Instances      Box(P          R      mAP50  mAP50-95): 100%|██████████| 34/34 [00:06<00:00,  4.88it/s]\n"
     ]
    },
    {
     "name": "stdout",
     "output_type": "stream",
     "text": [
      "                   all       1073       1573      0.851      0.805      0.855      0.468\n",
      "\n",
      "75 epochs completed in 4.805 hours.\n",
      "Optimizer stripped from runs/detect/train/weights/last.pt, 6.2MB\n",
      "Optimizer stripped from runs/detect/train/weights/best.pt, 6.2MB\n",
      "\n",
      "Validating runs/detect/train/weights/best.pt...\n",
      "Ultralytics 8.3.37 🚀 Python-3.10.14 torch-2.4.0 CUDA:0 (Tesla T4, 15095MiB)\n",
      "                                                 CUDA:1 (Tesla T4, 15095MiB)\n",
      "Model summary (fused): 168 layers, 3,005,843 parameters, 0 gradients, 8.1 GFLOPs\n"
     ]
    },
    {
     "name": "stderr",
     "output_type": "stream",
     "text": [
      "                 Class     Images  Instances      Box(P          R      mAP50  mAP50-95): 100%|██████████| 34/34 [00:10<00:00,  3.32it/s]\n"
     ]
    },
    {
     "name": "stdout",
     "output_type": "stream",
     "text": [
      "                   all       1073       1573      0.844      0.761      0.838      0.457\n",
      "Speed: 0.1ms preprocess, 5.4ms inference, 0.0ms loss, 0.8ms postprocess per image\n",
      "Results saved to \u001b[1mruns/detect/train\u001b[0m\n"
     ]
    }
   ],
   "source": [
    "from ultralytics import YOLO\n",
    "\n",
    "model = YOLO('yolov8n.pt')\n",
    "\n",
    "model.train(\n",
    "    data='/kaggle/input/cv-project-files2/dataset.yaml',\n",
    "    epochs=75,                            # Number of training epochs\n",
    "    imgsz=640,                            # Image size\n",
    "    batch=32,                             # batch size\n",
    "    lr0=0.001,                             # initial learning rate\n",
    "    augment=True,                         # no data augmentation\n",
    "    dropout=0.2       ,                    # dropout to reduce overfitting\n",
    "    device=[0,1]\n",
    ")\n"
   ]
  },
  {
   "cell_type": "code",
   "execution_count": 3,
   "id": "9f9f7d2b",
   "metadata": {
    "_kg_hide-input": false,
    "_kg_hide-output": false,
    "execution": {
     "iopub.execute_input": "2024-11-26T00:52:50.590171Z",
     "iopub.status.busy": "2024-11-26T00:52:50.588848Z",
     "iopub.status.idle": "2024-11-26T00:52:50.593425Z",
     "shell.execute_reply": "2024-11-26T00:52:50.592574Z"
    },
    "papermill": {
     "duration": 2.901379,
     "end_time": "2024-11-26T00:52:50.594982",
     "exception": false,
     "start_time": "2024-11-26T00:52:47.693603",
     "status": "completed"
    },
    "scrolled": true,
    "tags": []
   },
   "outputs": [],
   "source": [
    "#from ultralytics import YOLO\n",
    "# resume training\n",
    "#model = YOLO('/kaggle/working/runs/detect/train/weights/last.pt')\n",
    "#model.train(resume=True)"
   ]
  },
  {
   "cell_type": "code",
   "execution_count": 4,
   "id": "3bef09ad",
   "metadata": {
    "execution": {
     "iopub.execute_input": "2024-11-26T00:52:56.448433Z",
     "iopub.status.busy": "2024-11-26T00:52:56.448088Z",
     "iopub.status.idle": "2024-11-26T00:53:13.496719Z",
     "shell.execute_reply": "2024-11-26T00:53:13.495773Z"
    },
    "papermill": {
     "duration": 19.982873,
     "end_time": "2024-11-26T00:53:13.498518",
     "exception": false,
     "start_time": "2024-11-26T00:52:53.515645",
     "status": "completed"
    },
    "scrolled": true,
    "tags": []
   },
   "outputs": [
    {
     "name": "stdout",
     "output_type": "stream",
     "text": [
      "\n",
      "image 1/386 /kaggle/input/large-license-plate-dataset/images/test/003a5aaf6d17c917.jpg: 448x640 1 license_plate, 35.5ms\n",
      "image 2/386 /kaggle/input/large-license-plate-dataset/images/test/00723dac8201a83e.jpg: 480x640 2 license_plates, 37.2ms\n",
      "image 3/386 /kaggle/input/large-license-plate-dataset/images/test/008637722500f239.jpg: 480x640 2 license_plates, 6.1ms\n",
      "image 4/386 /kaggle/input/large-license-plate-dataset/images/test/0170ea8e1a33375a.jpg: 448x640 2 license_plates, 7.0ms\n",
      "image 5/386 /kaggle/input/large-license-plate-dataset/images/test/017527da8bfeb97d.jpg: 448x640 1 license_plate, 6.3ms\n",
      "image 6/386 /kaggle/input/large-license-plate-dataset/images/test/02a6ef3d9bd68e91.jpg: 480x640 2 license_plates, 7.0ms\n",
      "image 7/386 /kaggle/input/large-license-plate-dataset/images/test/03b7b71e1ffcb7a8.jpg: 448x640 1 license_plate, 6.8ms\n",
      "image 8/386 /kaggle/input/large-license-plate-dataset/images/test/044417ca6134604f.jpg: 448x640 1 license_plate, 6.1ms\n",
      "image 9/386 /kaggle/input/large-license-plate-dataset/images/test/057569768fd6303e.jpg: 480x640 2 license_plates, 6.9ms\n",
      "image 10/386 /kaggle/input/large-license-plate-dataset/images/test/064a8def3049d040.jpg: 448x640 1 license_plate, 6.9ms\n",
      "image 11/386 /kaggle/input/large-license-plate-dataset/images/test/0673b967f8c68eec.jpg: 480x640 1 license_plate, 7.2ms\n",
      "image 12/386 /kaggle/input/large-license-plate-dataset/images/test/06b024413ad385a7.jpg: 512x640 1 license_plate, 34.8ms\n",
      "image 13/386 /kaggle/input/large-license-plate-dataset/images/test/0727983dd5f9e4e6.jpg: 480x640 1 license_plate, 7.1ms\n",
      "image 14/386 /kaggle/input/large-license-plate-dataset/images/test/0787b0fa95f545a5.jpg: 576x640 1 license_plate, 34.5ms\n",
      "image 15/386 /kaggle/input/large-license-plate-dataset/images/test/0801961485534636.jpg: 480x640 1 license_plate, 7.4ms\n",
      "image 16/386 /kaggle/input/large-license-plate-dataset/images/test/081f5a6bc61b9c48.jpg: 480x640 1 license_plate, 6.3ms\n",
      "image 17/386 /kaggle/input/large-license-plate-dataset/images/test/08481c03daf6f35d.jpg: 448x640 1 license_plate, 7.0ms\n",
      "image 18/386 /kaggle/input/large-license-plate-dataset/images/test/091c033b2a7df15b.jpg: 480x640 2 license_plates, 7.0ms\n",
      "image 19/386 /kaggle/input/large-license-plate-dataset/images/test/09453a7c716a9ef3.jpg: 480x640 1 license_plate, 6.1ms\n",
      "image 20/386 /kaggle/input/large-license-plate-dataset/images/test/0c756c9366a8cb10.jpg: 480x640 2 license_plates, 6.3ms\n",
      "image 21/386 /kaggle/input/large-license-plate-dataset/images/test/0cacb08195a3e2d7.jpg: 448x640 1 license_plate, 6.9ms\n",
      "image 22/386 /kaggle/input/large-license-plate-dataset/images/test/0d6ca8553971fefd.jpg: 448x640 1 license_plate, 6.1ms\n",
      "image 23/386 /kaggle/input/large-license-plate-dataset/images/test/0e50ea14c4fc1353.jpg: 448x640 1 license_plate, 6.2ms\n",
      "image 24/386 /kaggle/input/large-license-plate-dataset/images/test/0ee91c4938b6e7ee.jpg: 640x480 2 license_plates, 34.3ms\n",
      "image 25/386 /kaggle/input/large-license-plate-dataset/images/test/0f0596b1c511e071.jpg: 576x640 1 license_plate, 7.9ms\n",
      "image 26/386 /kaggle/input/large-license-plate-dataset/images/test/0f4bfc46402a9f52.jpg: 640x640 1 license_plate, 8.0ms\n",
      "image 27/386 /kaggle/input/large-license-plate-dataset/images/test/0fbd1b85fc01d2ae.jpg: 384x640 1 license_plate, 43.4ms\n",
      "image 28/386 /kaggle/input/large-license-plate-dataset/images/test/1071b237587a698b.jpg: 640x480 1 license_plate, 6.8ms\n",
      "image 29/386 /kaggle/input/large-license-plate-dataset/images/test/11b155ab5b3331cf.jpg: 384x640 1 license_plate, 6.8ms\n",
      "image 30/386 /kaggle/input/large-license-plate-dataset/images/test/11f80fda2c38011c.jpg: 448x640 1 license_plate, 6.8ms\n",
      "image 31/386 /kaggle/input/large-license-plate-dataset/images/test/125622a2508e3b1d.jpg: 416x640 1 license_plate, 34.6ms\n",
      "image 32/386 /kaggle/input/large-license-plate-dataset/images/test/128a59bca025bed6.jpg: 480x640 1 license_plate, 7.2ms\n",
      "image 33/386 /kaggle/input/large-license-plate-dataset/images/test/12b7ea40074d3b20.jpg: 480x640 1 license_plate, 6.1ms\n",
      "image 34/386 /kaggle/input/large-license-plate-dataset/images/test/12d3b6665f7e1cf6.jpg: 640x480 2 license_plates, 6.8ms\n",
      "image 35/386 /kaggle/input/large-license-plate-dataset/images/test/133921bd26fff729.jpg: 640x416 (no detections), 33.7ms\n",
      "image 36/386 /kaggle/input/large-license-plate-dataset/images/test/140e8d10ff02e7e7.jpg: 448x640 1 license_plate, 7.0ms\n",
      "image 37/386 /kaggle/input/large-license-plate-dataset/images/test/1545c73bdecb3e2f.jpg: 352x640 1 license_plate, 34.0ms\n",
      "image 38/386 /kaggle/input/large-license-plate-dataset/images/test/15a51e29f5ceffd8.jpg: 448x640 1 license_plate, 6.9ms\n",
      "image 39/386 /kaggle/input/large-license-plate-dataset/images/test/16789af24af158d8.jpg: 640x640 1 license_plate, 8.1ms\n",
      "image 40/386 /kaggle/input/large-license-plate-dataset/images/test/16c15b29b30148c2.jpg: 576x640 1 license_plate, 8.1ms\n",
      "image 41/386 /kaggle/input/large-license-plate-dataset/images/test/17585ef2efb5ef9b.jpg: 640x480 1 license_plate, 6.8ms\n",
      "image 42/386 /kaggle/input/large-license-plate-dataset/images/test/18098dc9ee6aad80.jpg: 448x640 1 license_plate, 6.8ms\n",
      "image 43/386 /kaggle/input/large-license-plate-dataset/images/test/182268e1f8c6525f.jpg: 448x640 1 license_plate, 6.7ms\n",
      "image 44/386 /kaggle/input/large-license-plate-dataset/images/test/185d5dfa193c4ced.jpg: 448x640 1 license_plate, 6.3ms\n",
      "image 45/386 /kaggle/input/large-license-plate-dataset/images/test/185fd6653258d3ed.jpg: 480x640 1 license_plate, 7.4ms\n",
      "image 46/386 /kaggle/input/large-license-plate-dataset/images/test/19eba8ac64eed194.jpg: 480x640 1 license_plate, 6.3ms\n",
      "image 47/386 /kaggle/input/large-license-plate-dataset/images/test/19ff847d0cd1c5ec.jpg: 448x640 1 license_plate, 6.9ms\n",
      "image 48/386 /kaggle/input/large-license-plate-dataset/images/test/1a3e9d87d733ff7f.jpg: 448x640 1 license_plate, 9.8ms\n",
      "image 49/386 /kaggle/input/large-license-plate-dataset/images/test/1ca1155083156d72.jpg: 448x640 1 license_plate, 9.4ms\n",
      "image 50/386 /kaggle/input/large-license-plate-dataset/images/test/1db3793d7c84faa1.jpg: 480x640 1 license_plate, 7.1ms\n",
      "image 51/386 /kaggle/input/large-license-plate-dataset/images/test/1e6e75488d7878aa.jpg: 480x640 2 license_plates, 6.2ms\n",
      "image 52/386 /kaggle/input/large-license-plate-dataset/images/test/1ead26febde18ce9.jpg: 480x640 1 license_plate, 6.2ms\n",
      "image 53/386 /kaggle/input/large-license-plate-dataset/images/test/1eb2ebab9cd7adf6.jpg: 480x640 1 license_plate, 6.1ms\n",
      "image 54/386 /kaggle/input/large-license-plate-dataset/images/test/1edfbe8c28a86caf.jpg: 384x640 1 license_plate, 7.1ms\n",
      "image 55/386 /kaggle/input/large-license-plate-dataset/images/test/1f0e643b125f00ec.jpg: 448x640 1 license_plate, 6.9ms\n",
      "image 56/386 /kaggle/input/large-license-plate-dataset/images/test/1f1d5bc31e444cc1.jpg: 448x640 2 license_plates, 6.0ms\n",
      "image 57/386 /kaggle/input/large-license-plate-dataset/images/test/1f34454c4c073e1b.jpg: 608x640 2 license_plates, 35.2ms\n",
      "image 58/386 /kaggle/input/large-license-plate-dataset/images/test/228bd52bbe043677.jpg: 480x640 2 license_plates, 7.0ms\n",
      "image 59/386 /kaggle/input/large-license-plate-dataset/images/test/23c2c79a9febbf3e.jpg: 384x640 1 license_plate, 7.0ms\n",
      "image 60/386 /kaggle/input/large-license-plate-dataset/images/test/246a0e4264a39433.jpg: 480x640 1 license_plate, 6.9ms\n",
      "image 61/386 /kaggle/input/large-license-plate-dataset/images/test/25d5c2fbd8b99662.jpg: 384x640 (no detections), 6.9ms\n",
      "image 62/386 /kaggle/input/large-license-plate-dataset/images/test/26183d88c4f8012f.jpg: 480x640 1 license_plate, 6.9ms\n",
      "image 63/386 /kaggle/input/large-license-plate-dataset/images/test/26192da5ce2afa62.jpg: 448x640 1 license_plate, 6.8ms\n",
      "image 64/386 /kaggle/input/large-license-plate-dataset/images/test/2619ec27a314e69c.jpg: 480x640 1 license_plate, 8.2ms\n",
      "image 65/386 /kaggle/input/large-license-plate-dataset/images/test/2753536137929411.jpg: 512x640 2 license_plates, 7.9ms\n",
      "image 66/386 /kaggle/input/large-license-plate-dataset/images/test/27798906120ea394.jpg: 480x640 3 license_plates, 6.9ms\n",
      "image 67/386 /kaggle/input/large-license-plate-dataset/images/test/288a95c01e43cd14.jpg: 480x640 1 license_plate, 6.2ms\n",
      "image 68/386 /kaggle/input/large-license-plate-dataset/images/test/28bd6c6b1050e055.jpg: 448x640 2 license_plates, 6.8ms\n",
      "image 69/386 /kaggle/input/large-license-plate-dataset/images/test/28d1fb27a6e42ee7.jpg: 480x640 (no detections), 6.9ms\n",
      "image 70/386 /kaggle/input/large-license-plate-dataset/images/test/28e26a4eb646c67a.jpg: 384x640 1 license_plate, 7.0ms\n",
      "image 71/386 /kaggle/input/large-license-plate-dataset/images/test/2956bcbedfc167b6.jpg: 480x640 1 license_plate, 6.9ms\n",
      "image 72/386 /kaggle/input/large-license-plate-dataset/images/test/299f0363ae21d1c3.jpg: 448x640 1 license_plate, 6.8ms\n",
      "image 73/386 /kaggle/input/large-license-plate-dataset/images/test/29f7991e696e6e3f.jpg: 448x640 1 license_plate, 6.2ms\n",
      "image 74/386 /kaggle/input/large-license-plate-dataset/images/test/2a3e44107826e876.jpg: 384x640 1 license_plate, 6.9ms\n",
      "image 75/386 /kaggle/input/large-license-plate-dataset/images/test/2adddd0b09bb0f17.jpg: 480x640 1 license_plate, 6.8ms\n",
      "image 76/386 /kaggle/input/large-license-plate-dataset/images/test/2b97f5bf137ee8d1.jpg: 448x640 3 license_plates, 6.8ms\n",
      "image 77/386 /kaggle/input/large-license-plate-dataset/images/test/2bd26c63ebf598b7.jpg: 448x640 1 license_plate, 6.1ms\n",
      "image 78/386 /kaggle/input/large-license-plate-dataset/images/test/2c09fab0221652c5.jpg: 480x640 1 license_plate, 6.8ms\n",
      "image 79/386 /kaggle/input/large-license-plate-dataset/images/test/2d40d6e377c82ec9.jpg: 640x480 1 license_plate, 6.8ms\n",
      "image 80/386 /kaggle/input/large-license-plate-dataset/images/test/2d6640fb230770fd.jpg: 448x640 2 license_plates, 6.9ms\n",
      "image 81/386 /kaggle/input/large-license-plate-dataset/images/test/2e8a83cfb1afe7ba.jpg: 480x640 1 license_plate, 6.9ms\n",
      "image 82/386 /kaggle/input/large-license-plate-dataset/images/test/2e95d7a799e23e11.jpg: 352x640 1 license_plate, 7.3ms\n",
      "image 83/386 /kaggle/input/large-license-plate-dataset/images/test/2f3887024d298547.jpg: 480x640 1 license_plate, 6.8ms\n",
      "image 84/386 /kaggle/input/large-license-plate-dataset/images/test/2f90aaa72744452d.jpg: 480x640 2 license_plates, 6.4ms\n",
      "image 85/386 /kaggle/input/large-license-plate-dataset/images/test/2fe1f00b77a110a0.jpg: 448x640 1 license_plate, 7.2ms\n",
      "image 86/386 /kaggle/input/large-license-plate-dataset/images/test/302d636c896c263f.jpg: 448x640 1 license_plate, 6.2ms\n",
      "image 87/386 /kaggle/input/large-license-plate-dataset/images/test/30b6cfb60bf44533.jpg: 640x640 1 license_plate, 8.1ms\n",
      "image 88/386 /kaggle/input/large-license-plate-dataset/images/test/315aead7766727b8.jpg: 608x640 1 license_plate, 8.0ms\n",
      "image 89/386 /kaggle/input/large-license-plate-dataset/images/test/321ffb38656f7311.jpg: 480x640 3 license_plates, 6.9ms\n",
      "image 90/386 /kaggle/input/large-license-plate-dataset/images/test/3241f09a8964ddfb.jpg: 480x640 2 license_plates, 6.5ms\n",
      "image 91/386 /kaggle/input/large-license-plate-dataset/images/test/326c3286bcb5b2b0.jpg: 448x640 3 license_plates, 6.8ms\n",
      "image 92/386 /kaggle/input/large-license-plate-dataset/images/test/334f31e809ec9a77.jpg: 480x640 1 license_plate, 6.8ms\n",
      "image 93/386 /kaggle/input/large-license-plate-dataset/images/test/33e0333ff031c4fb.jpg: 640x640 1 license_plate, 8.1ms\n",
      "image 94/386 /kaggle/input/large-license-plate-dataset/images/test/343326e127297379.jpg: 448x640 2 license_plates, 7.0ms\n",
      "image 95/386 /kaggle/input/large-license-plate-dataset/images/test/35875c388efcddf0.jpg: 480x640 2 license_plates, 6.8ms\n",
      "image 96/386 /kaggle/input/large-license-plate-dataset/images/test/36d7b8b3cca3b0f5.jpg: 448x640 1 license_plate, 7.4ms\n",
      "image 97/386 /kaggle/input/large-license-plate-dataset/images/test/37ff77d13a54aac2.jpg: 448x640 1 license_plate, 6.2ms\n",
      "image 98/386 /kaggle/input/large-license-plate-dataset/images/test/39c193bcc0c00f9e.jpg: 448x640 1 license_plate, 6.1ms\n",
      "image 99/386 /kaggle/input/large-license-plate-dataset/images/test/3d98e3713783e82d.jpg: 448x640 1 license_plate, 6.6ms\n",
      "image 100/386 /kaggle/input/large-license-plate-dataset/images/test/3e156de979eb0828.jpg: 480x640 1 license_plate, 6.9ms\n",
      "image 101/386 /kaggle/input/large-license-plate-dataset/images/test/3e2306f2cf4b2c67.jpg: 544x640 1 license_plate, 35.1ms\n",
      "image 102/386 /kaggle/input/large-license-plate-dataset/images/test/3ecd5af7c4f11963.jpg: 480x640 1 license_plate, 7.0ms\n",
      "image 103/386 /kaggle/input/large-license-plate-dataset/images/test/3ed000628c6a0587.jpg: 448x640 1 license_plate, 6.8ms\n",
      "image 104/386 /kaggle/input/large-license-plate-dataset/images/test/3feecc5809a29627.jpg: 640x640 1 license_plate, 8.1ms\n",
      "image 105/386 /kaggle/input/large-license-plate-dataset/images/test/4148b2126f0986a4.jpg: 640x640 1 license_plate, 7.4ms\n",
      "image 106/386 /kaggle/input/large-license-plate-dataset/images/test/415d64bf8cfe82f2.jpg: 448x640 1 license_plate, 7.2ms\n",
      "image 107/386 /kaggle/input/large-license-plate-dataset/images/test/428a5131c8cff7da.jpg: 640x640 1 license_plate, 8.1ms\n",
      "image 108/386 /kaggle/input/large-license-plate-dataset/images/test/43339d9cbca470e4.jpg: 480x640 1 license_plate, 7.0ms\n",
      "image 109/386 /kaggle/input/large-license-plate-dataset/images/test/43b1b0028dd2db8d.jpg: 480x640 1 license_plate, 6.4ms\n",
      "image 110/386 /kaggle/input/large-license-plate-dataset/images/test/44afab29f5fa0abf.jpg: 480x640 2 license_plates, 6.6ms\n",
      "image 111/386 /kaggle/input/large-license-plate-dataset/images/test/453a77009b27e253.jpg: 448x640 1 license_plate, 7.2ms\n",
      "image 112/386 /kaggle/input/large-license-plate-dataset/images/test/4572990fd64bb6be.jpg: 512x640 2 license_plates, 7.0ms\n",
      "image 113/386 /kaggle/input/large-license-plate-dataset/images/test/460753acbd6e6dad.jpg: 480x640 2 license_plates, 6.8ms\n",
      "image 114/386 /kaggle/input/large-license-plate-dataset/images/test/46a7991da6461831.jpg: 448x640 (no detections), 7.1ms\n",
      "image 115/386 /kaggle/input/large-license-plate-dataset/images/test/4793138df3c05610.jpg: 352x640 1 license_plate, 7.5ms\n",
      "image 116/386 /kaggle/input/large-license-plate-dataset/images/test/485e5f37dd13ffab.jpg: 384x640 2 license_plates, 7.2ms\n",
      "image 117/386 /kaggle/input/large-license-plate-dataset/images/test/488722909dd9c0ac.jpg: 480x640 1 license_plate, 6.9ms\n",
      "image 118/386 /kaggle/input/large-license-plate-dataset/images/test/49595029959689b7.jpg: 480x640 1 license_plate, 6.2ms\n",
      "image 119/386 /kaggle/input/large-license-plate-dataset/images/test/4ac941b9393d00f9.jpg: 480x640 1 license_plate, 6.2ms\n",
      "image 120/386 /kaggle/input/large-license-plate-dataset/images/test/4b3aba5dfb7a0492.jpg: 480x640 1 license_plate, 6.5ms\n",
      "image 121/386 /kaggle/input/large-license-plate-dataset/images/test/4c04b488ddc48225.jpg: 384x640 1 license_plate, 7.4ms\n",
      "image 122/386 /kaggle/input/large-license-plate-dataset/images/test/4cb48c8bf41b70a4.jpg: 480x640 1 license_plate, 7.0ms\n",
      "image 123/386 /kaggle/input/large-license-plate-dataset/images/test/4df1448703257ff0.jpg: 480x640 1 license_plate, 6.1ms\n",
      "image 124/386 /kaggle/input/large-license-plate-dataset/images/test/4e2cb95b9c509b10.jpg: 384x640 1 license_plate, 7.0ms\n",
      "image 125/386 /kaggle/input/large-license-plate-dataset/images/test/4e593c88022ff6b1.jpg: 480x640 2 license_plates, 7.7ms\n",
      "image 126/386 /kaggle/input/large-license-plate-dataset/images/test/4ee3f0e9a2fb20a9.jpg: 448x640 1 license_plate, 6.9ms\n",
      "image 127/386 /kaggle/input/large-license-plate-dataset/images/test/4fa24c1abe969cb7.jpg: 448x640 1 license_plate, 6.1ms\n",
      "image 128/386 /kaggle/input/large-license-plate-dataset/images/test/4ff8bebd6d6a0361.jpg: 480x640 1 license_plate, 6.9ms\n",
      "image 129/386 /kaggle/input/large-license-plate-dataset/images/test/5021041c726b6ee4.jpg: 480x640 1 license_plate, 6.4ms\n",
      "image 130/386 /kaggle/input/large-license-plate-dataset/images/test/50631041f74001aa.jpg: 448x640 (no detections), 7.0ms\n",
      "image 131/386 /kaggle/input/large-license-plate-dataset/images/test/508f0a75156e5fd4.jpg: 448x640 1 license_plate, 6.2ms\n",
      "image 132/386 /kaggle/input/large-license-plate-dataset/images/test/50c37aeaf19acd5b.jpg: 448x640 1 license_plate, 6.4ms\n",
      "image 133/386 /kaggle/input/large-license-plate-dataset/images/test/5290f4027491d09b.jpg: 480x640 1 license_plate, 6.8ms\n",
      "image 134/386 /kaggle/input/large-license-plate-dataset/images/test/52bf6b555e578a34.jpg: 448x640 1 license_plate, 7.1ms\n",
      "image 135/386 /kaggle/input/large-license-plate-dataset/images/test/52ceb1fc30b413e5.jpg: 480x640 2 license_plates, 6.9ms\n",
      "image 136/386 /kaggle/input/large-license-plate-dataset/images/test/53386dae3cf13cc3.jpg: 480x640 1 license_plate, 6.1ms\n",
      "image 137/386 /kaggle/input/large-license-plate-dataset/images/test/5373ec295ea62c47.jpg: 448x640 2 license_plates, 6.8ms\n",
      "image 138/386 /kaggle/input/large-license-plate-dataset/images/test/53925df03b471f5d.jpg: 480x640 1 license_plate, 7.2ms\n",
      "image 139/386 /kaggle/input/large-license-plate-dataset/images/test/53ad98b12752ad16.jpg: 480x640 4 license_plates, 6.3ms\n",
      "image 140/386 /kaggle/input/large-license-plate-dataset/images/test/548a8e997a66a0c4.jpg: 576x640 1 license_plate, 8.0ms\n",
      "image 141/386 /kaggle/input/large-license-plate-dataset/images/test/548a985825bb991f.jpg: 480x640 (no detections), 7.1ms\n",
      "image 142/386 /kaggle/input/large-license-plate-dataset/images/test/54bd93e5a4de808a.jpg: 480x640 1 license_plate, 6.1ms\n",
      "image 143/386 /kaggle/input/large-license-plate-dataset/images/test/54ebca2064066a49.jpg: 448x640 1 license_plate, 6.7ms\n",
      "image 144/386 /kaggle/input/large-license-plate-dataset/images/test/5581a1b7d2f0f2b4.jpg: 640x640 1 license_plate, 8.1ms\n",
      "image 145/386 /kaggle/input/large-license-plate-dataset/images/test/5641e6ad7d2600f2.jpg: 480x640 1 license_plate, 6.9ms\n",
      "image 146/386 /kaggle/input/large-license-plate-dataset/images/test/575d96d014e4fbab.jpg: 480x640 1 license_plate, 6.1ms\n",
      "image 147/386 /kaggle/input/large-license-plate-dataset/images/test/593e594137f374ab.jpg: 448x640 1 license_plate, 8.0ms\n",
      "image 148/386 /kaggle/input/large-license-plate-dataset/images/test/59b83c5f8f1dcfa4.jpg: 640x480 1 license_plate, 7.0ms\n",
      "image 149/386 /kaggle/input/large-license-plate-dataset/images/test/5a122adbb1a776b7.jpg: 480x640 2 license_plates, 7.0ms\n",
      "image 150/386 /kaggle/input/large-license-plate-dataset/images/test/5a3f94aa35766f31.jpg: 544x640 3 license_plates, 7.9ms\n",
      "image 151/386 /kaggle/input/large-license-plate-dataset/images/test/5a96f5e1f9be8d42.jpg: 480x640 1 license_plate, 6.9ms\n",
      "image 152/386 /kaggle/input/large-license-plate-dataset/images/test/5cc19b450a51ee4c.jpg: 480x640 1 license_plate, 6.1ms\n",
      "image 153/386 /kaggle/input/large-license-plate-dataset/images/test/5daafbcf76fa6602.jpg: 480x640 1 license_plate, 6.1ms\n",
      "image 154/386 /kaggle/input/large-license-plate-dataset/images/test/5df8816356fc2b29.jpg: 320x640 1 license_plate, 35.5ms\n",
      "image 155/386 /kaggle/input/large-license-plate-dataset/images/test/5fb888d79b551331.jpg: 640x640 1 license_plate, 8.1ms\n",
      "image 156/386 /kaggle/input/large-license-plate-dataset/images/test/5ff91ccfc6f15d04.jpg: 448x640 1 license_plate, 7.0ms\n",
      "image 157/386 /kaggle/input/large-license-plate-dataset/images/test/61a69ad713142e45.jpg: 480x640 1 license_plate, 6.7ms\n",
      "image 158/386 /kaggle/input/large-license-plate-dataset/images/test/620bd952592bc0e9.jpg: 480x640 1 license_plate, 6.3ms\n",
      "image 159/386 /kaggle/input/large-license-plate-dataset/images/test/621837d55c229864.jpg: 480x640 1 license_plate, 6.1ms\n",
      "image 160/386 /kaggle/input/large-license-plate-dataset/images/test/628a23a43f19c4db.jpg: 384x640 1 license_plate, 7.3ms\n",
      "image 161/386 /kaggle/input/large-license-plate-dataset/images/test/62bb93bbd270dd9a.jpg: 448x640 1 license_plate, 7.0ms\n",
      "image 162/386 /kaggle/input/large-license-plate-dataset/images/test/6306fc7f3573eb70.jpg: 448x640 2 license_plates, 6.2ms\n",
      "image 163/386 /kaggle/input/large-license-plate-dataset/images/test/63d3df798bc8840f.jpg: 640x640 2 license_plates, 8.1ms\n",
      "image 164/386 /kaggle/input/large-license-plate-dataset/images/test/643c3cc1a4e85db2.jpg: 480x640 1 license_plate, 6.9ms\n",
      "image 165/386 /kaggle/input/large-license-plate-dataset/images/test/647ff22cf6950211.jpg: 544x640 1 license_plate, 7.8ms\n",
      "image 166/386 /kaggle/input/large-license-plate-dataset/images/test/64de505bd2bac82b.jpg: 480x640 1 license_plate, 7.1ms\n",
      "image 167/386 /kaggle/input/large-license-plate-dataset/images/test/6504632e0dc25997.jpg: 480x640 2 license_plates, 6.2ms\n",
      "image 168/386 /kaggle/input/large-license-plate-dataset/images/test/659dbf4f8c0fd29d.jpg: 480x640 1 license_plate, 7.3ms\n",
      "image 169/386 /kaggle/input/large-license-plate-dataset/images/test/65e080f9ac466664.jpg: 384x640 4 license_plates, 7.0ms\n",
      "image 170/386 /kaggle/input/large-license-plate-dataset/images/test/665cac5fd1cc2186.jpg: 448x640 1 license_plate, 7.0ms\n",
      "image 171/386 /kaggle/input/large-license-plate-dataset/images/test/66771a4870c324f9.jpg: 384x640 1 license_plate, 7.1ms\n",
      "image 172/386 /kaggle/input/large-license-plate-dataset/images/test/66be6b583048fa94.jpg: 448x640 1 license_plate, 6.9ms\n",
      "image 173/386 /kaggle/input/large-license-plate-dataset/images/test/67945cf7a6beccdf.jpg: 384x640 1 license_plate, 7.2ms\n",
      "image 174/386 /kaggle/input/large-license-plate-dataset/images/test/67c834b73882a9f9.jpg: 448x640 2 license_plates, 7.8ms\n",
      "image 175/386 /kaggle/input/large-license-plate-dataset/images/test/6846c275ded01f85.jpg: 640x640 2 license_plates, 8.1ms\n",
      "image 176/386 /kaggle/input/large-license-plate-dataset/images/test/693acf98575cbe27.jpg: 480x640 2 license_plates, 7.3ms\n",
      "image 177/386 /kaggle/input/large-license-plate-dataset/images/test/69450fa183d57a7b.jpg: 384x640 1 license_plate, 6.9ms\n",
      "image 178/386 /kaggle/input/large-license-plate-dataset/images/test/6a0ef049e5ec4b16.jpg: 448x640 1 license_plate, 7.0ms\n",
      "image 179/386 /kaggle/input/large-license-plate-dataset/images/test/6aff04e9c32aec0f.jpg: 640x480 1 license_plate, 6.9ms\n",
      "image 180/386 /kaggle/input/large-license-plate-dataset/images/test/6b113b3edbadfe5d.jpg: 480x640 2 license_plates, 6.8ms\n",
      "image 181/386 /kaggle/input/large-license-plate-dataset/images/test/6c144e47161867c2.jpg: 384x640 1 license_plate, 6.9ms\n",
      "image 182/386 /kaggle/input/large-license-plate-dataset/images/test/6e819dc674a74078.jpg: 480x640 2 license_plates, 6.8ms\n",
      "image 183/386 /kaggle/input/large-license-plate-dataset/images/test/6eb18d1ad17cd174.jpg: 448x640 1 license_plate, 6.8ms\n",
      "image 184/386 /kaggle/input/large-license-plate-dataset/images/test/70e7b5173fe1e289.jpg: 480x640 1 license_plate, 6.7ms\n",
      "image 185/386 /kaggle/input/large-license-plate-dataset/images/test/71881a9c0f7f0a86.jpg: 448x640 2 license_plates, 7.3ms\n",
      "image 186/386 /kaggle/input/large-license-plate-dataset/images/test/71dbb47ebe504abe.jpg: 352x640 2 license_plates, 7.2ms\n",
      "image 187/386 /kaggle/input/large-license-plate-dataset/images/test/724307be418b2ed2.jpg: 480x640 1 license_plate, 7.2ms\n",
      "image 188/386 /kaggle/input/large-license-plate-dataset/images/test/7275e72e1996267f.jpg: 512x640 1 license_plate, 6.9ms\n",
      "image 189/386 /kaggle/input/large-license-plate-dataset/images/test/73467682c5995b65.jpg: 512x640 1 license_plate, 6.1ms\n",
      "image 190/386 /kaggle/input/large-license-plate-dataset/images/test/747b0f12f54703ee.jpg: 480x640 1 license_plate, 6.8ms\n",
      "image 191/386 /kaggle/input/large-license-plate-dataset/images/test/749b4451492fc250.jpg: 448x640 1 license_plate, 7.2ms\n",
      "image 192/386 /kaggle/input/large-license-plate-dataset/images/test/74ee6d1b58ae2e70.jpg: 448x640 1 license_plate, 6.2ms\n",
      "image 193/386 /kaggle/input/large-license-plate-dataset/images/test/7539902687e8f3a4.jpg: 480x640 1 license_plate, 6.8ms\n",
      "image 194/386 /kaggle/input/large-license-plate-dataset/images/test/76e14d05ee8acb6d.jpg: 448x640 1 license_plate, 6.8ms\n",
      "image 195/386 /kaggle/input/large-license-plate-dataset/images/test/77e716224c85410f.jpg: 480x640 1 license_plate, 6.8ms\n",
      "image 196/386 /kaggle/input/large-license-plate-dataset/images/test/791d63b1c3499e4f.jpg: 512x640 2 license_plates, 6.8ms\n",
      "image 197/386 /kaggle/input/large-license-plate-dataset/images/test/7a1f9520c7ecd5b1.jpg: 544x640 2 license_plates, 7.8ms\n",
      "image 198/386 /kaggle/input/large-license-plate-dataset/images/test/7b4e86e1c94d65de.jpg: 480x640 1 license_plate, 6.9ms\n",
      "image 199/386 /kaggle/input/large-license-plate-dataset/images/test/7bcf6b4ec09f1ea7.jpg: 480x640 1 license_plate, 6.5ms\n",
      "image 200/386 /kaggle/input/large-license-plate-dataset/images/test/7cbc7ee444622a66.jpg: 640x640 1 license_plate, 8.1ms\n",
      "image 201/386 /kaggle/input/large-license-plate-dataset/images/test/7f56adf4b9306ac9.jpg: 448x640 1 license_plate, 7.2ms\n",
      "image 202/386 /kaggle/input/large-license-plate-dataset/images/test/7f9740e95a74f2b9.jpg: 480x640 1 license_plate, 7.1ms\n",
      "image 203/386 /kaggle/input/large-license-plate-dataset/images/test/7fc0fb6035bc06a6.jpg: 448x640 2 license_plates, 6.9ms\n",
      "image 204/386 /kaggle/input/large-license-plate-dataset/images/test/80d21c58a71a0751.jpg: 384x640 1 license_plate, 6.9ms\n",
      "image 205/386 /kaggle/input/large-license-plate-dataset/images/test/80e02a518ffe4cb2.jpg: 480x640 2 license_plates, 6.9ms\n",
      "image 206/386 /kaggle/input/large-license-plate-dataset/images/test/8256e277c7f47797.jpg: 480x640 2 license_plates, 6.2ms\n",
      "image 207/386 /kaggle/input/large-license-plate-dataset/images/test/82b53fe7f9147c96.jpg: 448x640 1 license_plate, 6.8ms\n",
      "image 208/386 /kaggle/input/large-license-plate-dataset/images/test/844adfe06e003c09.jpg: 480x640 1 license_plate, 6.9ms\n",
      "image 209/386 /kaggle/input/large-license-plate-dataset/images/test/85b1dafd26aa98df.jpg: 448x640 2 license_plates, 6.8ms\n",
      "image 210/386 /kaggle/input/large-license-plate-dataset/images/test/85ddb7e0f60156a3.jpg: 448x640 (no detections), 6.2ms\n",
      "image 211/386 /kaggle/input/large-license-plate-dataset/images/test/85f0b4db3eb512ce.jpg: 448x640 1 license_plate, 6.1ms\n",
      "image 212/386 /kaggle/input/large-license-plate-dataset/images/test/86c92b0402fec141.jpg: 448x640 1 license_plate, 6.1ms\n",
      "image 213/386 /kaggle/input/large-license-plate-dataset/images/test/87793700161a7a6b.jpg: 448x640 1 license_plate, 6.3ms\n",
      "image 214/386 /kaggle/input/large-license-plate-dataset/images/test/87b4f1202cd06440.jpg: 480x640 2 license_plates, 7.1ms\n",
      "image 215/386 /kaggle/input/large-license-plate-dataset/images/test/88df55ff4e13b90d.jpg: 480x640 1 license_plate, 6.2ms\n",
      "image 216/386 /kaggle/input/large-license-plate-dataset/images/test/88fc866f92860d70.jpg: 640x640 2 license_plates, 8.1ms\n",
      "image 217/386 /kaggle/input/large-license-plate-dataset/images/test/894cacdb385fdb6b.jpg: 480x640 1 license_plate, 6.8ms\n",
      "image 218/386 /kaggle/input/large-license-plate-dataset/images/test/895d440e05b2a8d8.jpg: 480x640 1 license_plate, 6.1ms\n",
      "image 219/386 /kaggle/input/large-license-plate-dataset/images/test/8c63cf76166c3bd7.jpg: 512x640 1 license_plate, 6.8ms\n",
      "image 220/386 /kaggle/input/large-license-plate-dataset/images/test/8cb5553e75d3d311.jpg: 480x640 2 license_plates, 6.8ms\n",
      "image 221/386 /kaggle/input/large-license-plate-dataset/images/test/8cca720c410ee7f8.jpg: 640x480 2 license_plates, 6.9ms\n",
      "image 222/386 /kaggle/input/large-license-plate-dataset/images/test/8cdcb833ef1ef049.jpg: 480x640 1 license_plate, 6.8ms\n",
      "image 223/386 /kaggle/input/large-license-plate-dataset/images/test/8ceed1ec9bc3ac45.jpg: 640x480 3 license_plates, 7.8ms\n",
      "image 224/386 /kaggle/input/large-license-plate-dataset/images/test/9034927e7438bdd6.jpg: 640x480 2 license_plates, 6.2ms\n",
      "image 225/386 /kaggle/input/large-license-plate-dataset/images/test/90596bf3313e72e3.jpg: 352x640 2 license_plates, 7.2ms\n",
      "image 226/386 /kaggle/input/large-license-plate-dataset/images/test/908a3ac555a1a509.jpg: 448x640 1 license_plate, 7.3ms\n",
      "image 227/386 /kaggle/input/large-license-plate-dataset/images/test/90abd4265adf5a00.jpg: 448x640 5 license_plates, 6.2ms\n",
      "image 228/386 /kaggle/input/large-license-plate-dataset/images/test/911e694dcc0814bf.jpg: 480x640 3 license_plates, 6.8ms\n",
      "image 229/386 /kaggle/input/large-license-plate-dataset/images/test/9238f5062ff1dc8d.jpg: 480x640 1 license_plate, 6.1ms\n",
      "image 230/386 /kaggle/input/large-license-plate-dataset/images/test/9286a99f243b359a.jpg: 512x640 1 license_plate, 6.9ms\n",
      "image 231/386 /kaggle/input/large-license-plate-dataset/images/test/932eef14e5ee78b2.jpg: 448x640 1 license_plate, 6.7ms\n",
      "image 232/386 /kaggle/input/large-license-plate-dataset/images/test/934645379fe657e1.jpg: 480x640 1 license_plate, 6.8ms\n",
      "image 233/386 /kaggle/input/large-license-plate-dataset/images/test/944281d0485869f0.jpg: 448x640 1 license_plate, 6.8ms\n",
      "image 234/386 /kaggle/input/large-license-plate-dataset/images/test/9498d0aff8f9ff8c.jpg: 384x640 2 license_plates, 6.9ms\n",
      "image 235/386 /kaggle/input/large-license-plate-dataset/images/test/955a8e4c8ba8116e.jpg: 480x640 1 license_plate, 6.8ms\n",
      "image 236/386 /kaggle/input/large-license-plate-dataset/images/test/98bcfbc4d3c8abbc.jpg: 480x640 2 license_plates, 6.1ms\n",
      "image 237/386 /kaggle/input/large-license-plate-dataset/images/test/99732f172ac80128.jpg: 384x640 2 license_plates, 6.8ms\n",
      "image 238/386 /kaggle/input/large-license-plate-dataset/images/test/9995dfc6e0eae5a1.jpg: 448x640 1 license_plate, 6.9ms\n",
      "image 239/386 /kaggle/input/large-license-plate-dataset/images/test/99c9c657582f958f.jpg: 448x640 2 license_plates, 6.1ms\n",
      "image 240/386 /kaggle/input/large-license-plate-dataset/images/test/9a4fe6361597f264.jpg: 448x640 1 license_plate, 6.1ms\n",
      "image 241/386 /kaggle/input/large-license-plate-dataset/images/test/9a795bbf4e94d630.jpg: 448x640 1 license_plate, 6.0ms\n",
      "image 242/386 /kaggle/input/large-license-plate-dataset/images/test/9c92cadb0f6237c0.jpg: 448x640 2 license_plates, 6.1ms\n",
      "image 243/386 /kaggle/input/large-license-plate-dataset/images/test/9ebbaf4d1f8d6e7b.jpg: 352x640 1 license_plate, 7.1ms\n",
      "image 244/386 /kaggle/input/large-license-plate-dataset/images/test/a21aa7c1d7b93d12.jpg: 480x640 1 license_plate, 7.2ms\n",
      "image 245/386 /kaggle/input/large-license-plate-dataset/images/test/a3ad91fabd188be3.jpg: 448x640 2 license_plates, 6.7ms\n",
      "image 246/386 /kaggle/input/large-license-plate-dataset/images/test/a52079c6cc4050cd.jpg: 480x640 1 license_plate, 7.1ms\n",
      "image 247/386 /kaggle/input/large-license-plate-dataset/images/test/a54e7bb80448f3b0.jpg: 480x640 2 license_plates, 6.2ms\n",
      "image 248/386 /kaggle/input/large-license-plate-dataset/images/test/a56e82026bb71ad5.jpg: 448x640 1 license_plate, 7.0ms\n",
      "image 249/386 /kaggle/input/large-license-plate-dataset/images/test/a5d6f8d36672fa64.jpg: 448x640 1 license_plate, 6.2ms\n",
      "image 250/386 /kaggle/input/large-license-plate-dataset/images/test/a67bc3f5f8650c73.jpg: 640x640 1 license_plate, 8.1ms\n",
      "image 251/386 /kaggle/input/large-license-plate-dataset/images/test/a6e3b0b73220cd32.jpg: 448x640 1 license_plate, 7.7ms\n",
      "image 252/386 /kaggle/input/large-license-plate-dataset/images/test/a72a8cda1bb31e34.jpg: 480x640 1 license_plate, 7.1ms\n",
      "image 253/386 /kaggle/input/large-license-plate-dataset/images/test/a774a6f81fea258b.jpg: 480x640 1 license_plate, 6.1ms\n",
      "image 254/386 /kaggle/input/large-license-plate-dataset/images/test/a79296fb4a48245e.jpg: 448x640 2 license_plates, 6.8ms\n",
      "image 255/386 /kaggle/input/large-license-plate-dataset/images/test/a823532e163f5722.jpg: 480x640 1 license_plate, 7.2ms\n",
      "image 256/386 /kaggle/input/large-license-plate-dataset/images/test/a929dc75c20da7d8.jpg: 640x640 1 license_plate, 8.1ms\n",
      "image 257/386 /kaggle/input/large-license-plate-dataset/images/test/a9b2a2018f845393.jpg: 480x640 1 license_plate, 6.7ms\n",
      "image 258/386 /kaggle/input/large-license-plate-dataset/images/test/aac1aaaf824b63dd.jpg: 480x640 2 license_plates, 6.3ms\n",
      "image 259/386 /kaggle/input/large-license-plate-dataset/images/test/abca9401dcf8f7ba.jpg: 480x640 2 license_plates, 6.3ms\n",
      "image 260/386 /kaggle/input/large-license-plate-dataset/images/test/aca8821ff0368720.jpg: 480x640 1 license_plate, 6.1ms\n",
      "image 261/386 /kaggle/input/large-license-plate-dataset/images/test/ad10c7d29f111692.jpg: 480x640 1 license_plate, 6.2ms\n",
      "image 262/386 /kaggle/input/large-license-plate-dataset/images/test/ae6724423f0d111a.jpg: 512x640 1 license_plate, 6.8ms\n",
      "image 263/386 /kaggle/input/large-license-plate-dataset/images/test/aefe747315dd79fc.jpg: 480x640 1 license_plate, 6.8ms\n",
      "image 264/386 /kaggle/input/large-license-plate-dataset/images/test/affd16c51644a893.jpg: 480x640 1 license_plate, 6.1ms\n",
      "image 265/386 /kaggle/input/large-license-plate-dataset/images/test/b01d46f9911d558b.jpg: 288x640 1 license_plate, 35.2ms\n",
      "image 266/386 /kaggle/input/large-license-plate-dataset/images/test/b076ad266891d7aa.jpg: 448x640 2 license_plates, 6.9ms\n",
      "image 267/386 /kaggle/input/large-license-plate-dataset/images/test/b09813a8742277c7.jpg: 512x640 2 license_plates, 7.0ms\n",
      "image 268/386 /kaggle/input/large-license-plate-dataset/images/test/b101900b26128253.jpg: 480x640 1 license_plate, 6.9ms\n",
      "image 269/386 /kaggle/input/large-license-plate-dataset/images/test/b1096bc91a89b0cf.jpg: 448x640 1 license_plate, 6.9ms\n",
      "image 270/386 /kaggle/input/large-license-plate-dataset/images/test/b15d6c0bdf90226d.jpg: 480x640 1 license_plate, 7.0ms\n",
      "image 271/386 /kaggle/input/large-license-plate-dataset/images/test/b193070a9c45b5ab.jpg: 480x640 1 license_plate, 6.3ms\n",
      "image 272/386 /kaggle/input/large-license-plate-dataset/images/test/b1a50a3824887ee2.jpg: 448x640 1 license_plate, 6.8ms\n",
      "image 273/386 /kaggle/input/large-license-plate-dataset/images/test/b25d7d2cb7abf86b.jpg: 448x640 1 license_plate, 6.3ms\n",
      "image 274/386 /kaggle/input/large-license-plate-dataset/images/test/b32671b7cc279583.jpg: 640x640 1 license_plate, 8.1ms\n",
      "image 275/386 /kaggle/input/large-license-plate-dataset/images/test/b3b61da98e22cd4a.jpg: 480x640 1 license_plate, 6.9ms\n",
      "image 276/386 /kaggle/input/large-license-plate-dataset/images/test/b57fe3aa2ff9577e.jpg: 384x640 1 license_plate, 6.9ms\n",
      "image 277/386 /kaggle/input/large-license-plate-dataset/images/test/b5e7183b6a5abe6c.jpg: 480x640 1 license_plate, 6.9ms\n",
      "image 278/386 /kaggle/input/large-license-plate-dataset/images/test/b6580dec5ada277d.jpg: 448x640 1 license_plate, 7.1ms\n",
      "image 279/386 /kaggle/input/large-license-plate-dataset/images/test/b6e55f97085c3732.jpg: 480x640 1 license_plate, 7.3ms\n",
      "image 280/386 /kaggle/input/large-license-plate-dataset/images/test/b6ecda23586a6ba5.jpg: 480x640 1 license_plate, 6.2ms\n",
      "image 281/386 /kaggle/input/large-license-plate-dataset/images/test/b7cdb5c0c99002b7.jpg: 448x640 1 license_plate, 6.9ms\n",
      "image 282/386 /kaggle/input/large-license-plate-dataset/images/test/b8a3f2ea385e45b3.jpg: 384x640 3 license_plates, 7.1ms\n",
      "image 283/386 /kaggle/input/large-license-plate-dataset/images/test/b91c3aaba25bf914.jpg: 448x640 1 license_plate, 7.2ms\n",
      "image 284/386 /kaggle/input/large-license-plate-dataset/images/test/b94993a2d67b455e.jpg: 448x640 1 license_plate, 6.1ms\n",
      "image 285/386 /kaggle/input/large-license-plate-dataset/images/test/b9f5b9acf1777acf.jpg: 480x640 1 license_plate, 6.9ms\n",
      "image 286/386 /kaggle/input/large-license-plate-dataset/images/test/bacc80fafc0566c3.jpg: 480x640 1 license_plate, 6.1ms\n",
      "image 287/386 /kaggle/input/large-license-plate-dataset/images/test/bbcac63e32bd8137.jpg: 448x640 1 license_plate, 6.9ms\n",
      "image 288/386 /kaggle/input/large-license-plate-dataset/images/test/bd12ea92bcab1afd.jpg: 480x640 2 license_plates, 7.0ms\n",
      "image 289/386 /kaggle/input/large-license-plate-dataset/images/test/be654a7eabe0e891.jpg: 480x640 1 license_plate, 6.1ms\n",
      "image 290/386 /kaggle/input/large-license-plate-dataset/images/test/be9fd0014b5a4f2a.jpg: 448x640 1 license_plate, 7.1ms\n",
      "image 291/386 /kaggle/input/large-license-plate-dataset/images/test/bf0aac0878b0a3d2.jpg: 512x640 (no detections), 6.8ms\n",
      "image 292/386 /kaggle/input/large-license-plate-dataset/images/test/bf2f25f3ed9ff4d5.jpg: 448x640 1 license_plate, 7.0ms\n",
      "image 293/386 /kaggle/input/large-license-plate-dataset/images/test/c1d8b110186e095a.jpg: 480x640 1 license_plate, 7.0ms\n",
      "image 294/386 /kaggle/input/large-license-plate-dataset/images/test/c274e026ac907eb9.jpg: 480x640 1 license_plate, 6.1ms\n",
      "image 295/386 /kaggle/input/large-license-plate-dataset/images/test/c50d184afad1a9dc.jpg: 480x640 2 license_plates, 6.2ms\n",
      "image 296/386 /kaggle/input/large-license-plate-dataset/images/test/c650ff8d3e8e75b3.jpg: 416x640 4 license_plates, 7.1ms\n",
      "image 297/386 /kaggle/input/large-license-plate-dataset/images/test/c7b1e6f7c38fa1a0.jpg: 480x640 2 license_plates, 6.8ms\n",
      "image 298/386 /kaggle/input/large-license-plate-dataset/images/test/c7df5232291486a3.jpg: 640x640 1 license_plate, 8.1ms\n",
      "image 299/386 /kaggle/input/large-license-plate-dataset/images/test/c91ee912164d8ecb.jpg: 480x640 1 license_plate, 7.6ms\n",
      "image 300/386 /kaggle/input/large-license-plate-dataset/images/test/cb4b754537798d23.jpg: 448x640 2 license_plates, 7.0ms\n",
      "image 301/386 /kaggle/input/large-license-plate-dataset/images/test/cb8c75fc1c7ccf73.jpg: 640x640 1 license_plate, 8.1ms\n",
      "image 302/386 /kaggle/input/large-license-plate-dataset/images/test/ccc1a2d44a290368.jpg: 448x640 1 license_plate, 6.9ms\n",
      "image 303/386 /kaggle/input/large-license-plate-dataset/images/test/cdb1e8621d1c624e.jpg: 448x640 1 license_plate, 6.2ms\n",
      "image 304/386 /kaggle/input/large-license-plate-dataset/images/test/ce97f7bc90e97109.jpg: 448x640 3 license_plates, 6.2ms\n",
      "image 305/386 /kaggle/input/large-license-plate-dataset/images/test/d027c6e32db60e3c.jpg: 480x640 2 license_plates, 6.8ms\n",
      "image 306/386 /kaggle/input/large-license-plate-dataset/images/test/d27e094e98374ff8.jpg: 448x640 1 license_plate, 6.8ms\n",
      "image 307/386 /kaggle/input/large-license-plate-dataset/images/test/d28d71c2690c16ed.jpg: 480x640 2 license_plates, 6.9ms\n",
      "image 308/386 /kaggle/input/large-license-plate-dataset/images/test/d2fe2b47668e9d8e.jpg: 480x640 1 license_plate, 6.5ms\n",
      "image 309/386 /kaggle/input/large-license-plate-dataset/images/test/d3729058c6a4186e.jpg: 480x640 1 license_plate, 6.1ms\n",
      "image 310/386 /kaggle/input/large-license-plate-dataset/images/test/d44c0b2252bf8a92.jpg: 480x640 1 license_plate, 6.2ms\n",
      "image 311/386 /kaggle/input/large-license-plate-dataset/images/test/d5058059dc0ce0ad.jpg: 480x640 2 license_plates, 6.1ms\n",
      "image 312/386 /kaggle/input/large-license-plate-dataset/images/test/d53a3bc813477685.jpg: 384x640 1 license_plate, 7.0ms\n",
      "image 313/386 /kaggle/input/large-license-plate-dataset/images/test/d565d93637d4e76d.jpg: 448x640 1 license_plate, 6.8ms\n",
      "image 314/386 /kaggle/input/large-license-plate-dataset/images/test/d59b7a0ff294e3be.jpg: 576x640 1 license_plate, 7.9ms\n",
      "image 315/386 /kaggle/input/large-license-plate-dataset/images/test/d5f4069e6734ac06.jpg: 480x640 2 license_plates, 7.0ms\n",
      "image 316/386 /kaggle/input/large-license-plate-dataset/images/test/d648b2ae1abc09f3.jpg: 544x640 2 license_plates, 7.8ms\n",
      "image 317/386 /kaggle/input/large-license-plate-dataset/images/test/d6c5271e96ec1a61.jpg: 640x480 1 license_plate, 6.8ms\n",
      "image 318/386 /kaggle/input/large-license-plate-dataset/images/test/d7b71c9fd144d58d.jpg: 640x640 1 license_plate, 8.2ms\n",
      "image 319/386 /kaggle/input/large-license-plate-dataset/images/test/d7d49b1a3706f3eb.jpg: 448x640 1 license_plate, 7.1ms\n",
      "image 320/386 /kaggle/input/large-license-plate-dataset/images/test/d830c3573e57bfc0.jpg: 480x640 1 license_plate, 6.8ms\n",
      "image 321/386 /kaggle/input/large-license-plate-dataset/images/test/d8cc6d566d01054b.jpg: 640x640 3 license_plates, 8.2ms\n",
      "image 322/386 /kaggle/input/large-license-plate-dataset/images/test/d8daed582e6cce2d.jpg: 480x640 1 license_plate, 6.8ms\n",
      "image 323/386 /kaggle/input/large-license-plate-dataset/images/test/d8f6c135ec5486ff.jpg: 448x640 1 license_plate, 6.8ms\n",
      "image 324/386 /kaggle/input/large-license-plate-dataset/images/test/d9fa2abf3719a4bd.jpg: 480x640 2 license_plates, 9.7ms\n",
      "image 325/386 /kaggle/input/large-license-plate-dataset/images/test/da1352ab6054a2e4.jpg: 480x640 1 license_plate, 6.3ms\n",
      "image 326/386 /kaggle/input/large-license-plate-dataset/images/test/da8186b39f042cdf.jpg: 480x640 1 license_plate, 6.1ms\n",
      "image 327/386 /kaggle/input/large-license-plate-dataset/images/test/daac3a6c64a79bea.jpg: 640x512 2 license_plates, 40.9ms\n",
      "image 328/386 /kaggle/input/large-license-plate-dataset/images/test/de2b5afb7eda96cf.jpg: 448x640 1 license_plate, 8.5ms\n",
      "image 329/386 /kaggle/input/large-license-plate-dataset/images/test/dec4608715b2d28d.jpg: 384x640 1 license_plate, 7.3ms\n",
      "image 330/386 /kaggle/input/large-license-plate-dataset/images/test/defd8f4b30b3e1e1.jpg: 480x640 1 license_plate, 6.8ms\n",
      "image 331/386 /kaggle/input/large-license-plate-dataset/images/test/e08424f3cd5f6dac.jpg: 480x640 1 license_plate, 6.2ms\n",
      "image 332/386 /kaggle/input/large-license-plate-dataset/images/test/e1120bfe48f85c1b.jpg: 576x640 1 license_plate, 7.9ms\n",
      "image 333/386 /kaggle/input/large-license-plate-dataset/images/test/e1925cd0ae28fbd9.jpg: 416x640 1 license_plate, 7.2ms\n",
      "image 334/386 /kaggle/input/large-license-plate-dataset/images/test/e2427db217e5c3db.jpg: 448x640 1 license_plate, 6.9ms\n",
      "image 335/386 /kaggle/input/large-license-plate-dataset/images/test/e40cafe0f0d3a550.jpg: 480x640 1 license_plate, 6.9ms\n",
      "image 336/386 /kaggle/input/large-license-plate-dataset/images/test/e4d600a63db8bf3a.jpg: 640x640 1 license_plate, 8.4ms\n",
      "image 337/386 /kaggle/input/large-license-plate-dataset/images/test/e52d4f347b2cf90f.jpg: 480x640 2 license_plates, 6.8ms\n",
      "image 338/386 /kaggle/input/large-license-plate-dataset/images/test/e57d38ae6a921518.jpg: 480x640 2 license_plates, 6.2ms\n",
      "image 339/386 /kaggle/input/large-license-plate-dataset/images/test/e5edf93b7c9f5edb.jpg: 480x640 1 license_plate, 6.1ms\n",
      "image 340/386 /kaggle/input/large-license-plate-dataset/images/test/e6299b9e04680adb.jpg: 480x640 5 license_plates, 6.2ms\n",
      "image 341/386 /kaggle/input/large-license-plate-dataset/images/test/e742e284c7c9da96.jpg: 480x640 1 license_plate, 6.2ms\n",
      "image 342/386 /kaggle/input/large-license-plate-dataset/images/test/e79f6777f2fc08b2.jpg: 448x640 2 license_plates, 7.3ms\n",
      "image 343/386 /kaggle/input/large-license-plate-dataset/images/test/e82f13b4a2fe69f3.jpg: 480x640 1 license_plate, 6.8ms\n",
      "image 344/386 /kaggle/input/large-license-plate-dataset/images/test/e8b36c888a75d742.jpg: 480x640 1 license_plate, 6.4ms\n",
      "image 345/386 /kaggle/input/large-license-plate-dataset/images/test/e9561d7c16db565f.jpg: 448x640 1 license_plate, 6.9ms\n",
      "image 346/386 /kaggle/input/large-license-plate-dataset/images/test/e9cd346a4a84d594.jpg: 512x640 1 license_plate, 6.9ms\n",
      "image 347/386 /kaggle/input/large-license-plate-dataset/images/test/e9fdd0a41cb61da6.jpg: 480x640 1 license_plate, 7.0ms\n",
      "image 348/386 /kaggle/input/large-license-plate-dataset/images/test/ea02d99ba51372ee.jpg: 480x640 3 license_plates, 6.3ms\n",
      "image 349/386 /kaggle/input/large-license-plate-dataset/images/test/ebaefbcb87bfa8a1.jpg: 448x640 1 license_plate, 6.9ms\n",
      "image 350/386 /kaggle/input/large-license-plate-dataset/images/test/ec8a36f7874c0c34.jpg: 480x640 1 license_plate, 6.9ms\n",
      "image 351/386 /kaggle/input/large-license-plate-dataset/images/test/ed7d99098d4af8e6.jpg: 480x640 1 license_plate, 6.2ms\n",
      "image 352/386 /kaggle/input/large-license-plate-dataset/images/test/edecf3a6d569b7c9.jpg: 640x448 1 license_plate, 34.9ms\n",
      "image 353/386 /kaggle/input/large-license-plate-dataset/images/test/ee047c8ca2cca8a2.jpg: 480x640 2 license_plates, 6.9ms\n",
      "image 354/386 /kaggle/input/large-license-plate-dataset/images/test/ef1bd7b718a3f6e8.jpg: 480x640 1 license_plate, 6.4ms\n",
      "image 355/386 /kaggle/input/large-license-plate-dataset/images/test/efde2a25c1c9c924.jpg: 448x640 1 license_plate, 7.1ms\n",
      "image 356/386 /kaggle/input/large-license-plate-dataset/images/test/f0c7057612710f21.jpg: 384x640 1 license_plate, 7.1ms\n",
      "image 357/386 /kaggle/input/large-license-plate-dataset/images/test/f1131b93a33cefb9.jpg: 448x640 1 license_plate, 10.3ms\n",
      "image 358/386 /kaggle/input/large-license-plate-dataset/images/test/f194eaf4f3d1d835.jpg: 480x640 1 license_plate, 7.2ms\n",
      "image 359/386 /kaggle/input/large-license-plate-dataset/images/test/f3814f4a6121838d.jpg: 320x640 1 license_plate, 10.7ms\n",
      "image 360/386 /kaggle/input/large-license-plate-dataset/images/test/f38265abb22a00e4.jpg: 448x640 2 license_plates, 7.4ms\n",
      "image 361/386 /kaggle/input/large-license-plate-dataset/images/test/f3bd3adea149193b.jpg: 448x640 1 license_plate, 6.6ms\n",
      "image 362/386 /kaggle/input/large-license-plate-dataset/images/test/f3c9af100984744f.jpg: 480x640 2 license_plates, 8.8ms\n",
      "image 363/386 /kaggle/input/large-license-plate-dataset/images/test/f3d472955c13cae0.jpg: 512x640 (no detections), 9.1ms\n",
      "image 364/386 /kaggle/input/large-license-plate-dataset/images/test/f5128e7a123b4fa8.jpg: 448x640 1 license_plate, 7.2ms\n",
      "image 365/386 /kaggle/input/large-license-plate-dataset/images/test/f53243c2bb551b8a.jpg: 448x640 (no detections), 6.5ms\n",
      "image 366/386 /kaggle/input/large-license-plate-dataset/images/test/f5c2a80a21ddb78c.jpg: 448x640 1 license_plate, 7.5ms\n",
      "image 367/386 /kaggle/input/large-license-plate-dataset/images/test/f5d1729aa333b284.jpg: 480x640 2 license_plates, 7.8ms\n",
      "image 368/386 /kaggle/input/large-license-plate-dataset/images/test/f6256bceaf66693f.jpg: 480x640 1 license_plate, 10.5ms\n",
      "image 369/386 /kaggle/input/large-license-plate-dataset/images/test/f700c5b69c973db6.jpg: 448x640 1 license_plate, 7.1ms\n",
      "image 370/386 /kaggle/input/large-license-plate-dataset/images/test/f73b754cdb1ab677.jpg: 448x640 1 license_plate, 6.2ms\n",
      "image 371/386 /kaggle/input/large-license-plate-dataset/images/test/f83d18919353c483.jpg: 448x640 1 license_plate, 6.6ms\n",
      "image 372/386 /kaggle/input/large-license-plate-dataset/images/test/f9170e8c13a99991.jpg: 544x640 1 license_plate, 7.9ms\n",
      "image 373/386 /kaggle/input/large-license-plate-dataset/images/test/f9f539977bfea25e.jpg: 448x640 1 license_plate, 7.2ms\n",
      "image 374/386 /kaggle/input/large-license-plate-dataset/images/test/fa897478280a2758.jpg: 480x640 2 license_plates, 7.8ms\n",
      "image 375/386 /kaggle/input/large-license-plate-dataset/images/test/fa9147596edc058f.jpg: 448x640 1 license_plate, 8.9ms\n",
      "image 376/386 /kaggle/input/large-license-plate-dataset/images/test/fb4e60b5cee8b88e.jpg: 640x416 2 license_plates, 9.7ms\n",
      "image 377/386 /kaggle/input/large-license-plate-dataset/images/test/fb55b73f241bf50a.jpg: 448x640 3 license_plates, 8.4ms\n",
      "image 378/386 /kaggle/input/large-license-plate-dataset/images/test/fc0a607ba5f38505.jpg: 448x640 1 license_plate, 8.5ms\n",
      "image 379/386 /kaggle/input/large-license-plate-dataset/images/test/fc0f46431cb1dbe9.jpg: 416x640 2 license_plates, 7.7ms\n",
      "image 380/386 /kaggle/input/large-license-plate-dataset/images/test/fd07d2db70cf53d5.jpg: 480x640 1 license_plate, 7.8ms\n",
      "image 381/386 /kaggle/input/large-license-plate-dataset/images/test/fdd963edc28bf163.jpg: 480x640 1 license_plate, 7.2ms\n",
      "image 382/386 /kaggle/input/large-license-plate-dataset/images/test/fe6139d150a3e2a8.jpg: 640x640 3 license_plates, 8.1ms\n",
      "image 383/386 /kaggle/input/large-license-plate-dataset/images/test/feaf383fc5de383f.jpg: 480x640 1 license_plate, 9.1ms\n",
      "image 384/386 /kaggle/input/large-license-plate-dataset/images/test/fed5c0275ff3a440.jpg: 448x640 2 license_plates, 8.5ms\n",
      "image 385/386 /kaggle/input/large-license-plate-dataset/images/test/ff69d090c735eccb.jpg: 480x640 1 license_plate, 9.2ms\n",
      "image 386/386 /kaggle/input/large-license-plate-dataset/images/test/ff85b09876d61631.jpg: 640x544 1 license_plate, 36.6ms\n",
      "Speed: 2.2ms preprocess, 8.2ms inference, 1.7ms postprocess per image at shape (1, 3, 640, 544)\n",
      "ok 381 skip 122\n"
     ]
    }
   ],
   "source": [
    "image_folder = '/kaggle/input/large-license-plate-dataset/images/test/'\n",
    "model = YOLO('/kaggle/working/runs/detect/train/weights/best.pt')\n",
    "\n",
    "results = model(image_folder,stream=False)\n",
    "output_folder = '/kaggle/working/test'\n",
    "ok = 0\n",
    "skip = 0\n",
    "for image in results:\n",
    "    device = image.boxes.xywh.device\n",
    "    suitable_crops = torch.empty((0,6), device=device)\n",
    "    for i in range(len(image)):\n",
    "        x, y, w, h = image.boxes.xywh[i].tolist() \n",
    "        if w > 50 and h > 20:\n",
    "            conf = image.boxes.conf[i]\n",
    "            keep_crop = torch.tensor([[x-w/2,y-h/2,x+w/2,y+h/2,conf,0]],device=device)\n",
    "            suitable_crops = torch.cat((suitable_crops,keep_crop))\n",
    "            ok+=1\n",
    "        else:\n",
    "            skip+=1\n",
    "    image.update(suitable_crops)\n",
    "    image.save_crop(output_folder)\n",
    "\n",
    "print(\"ok\",ok,\"skip\",skip)"
   ]
  },
  {
   "cell_type": "code",
   "execution_count": 5,
   "id": "d60d2ada",
   "metadata": {
    "execution": {
     "iopub.execute_input": "2024-11-26T00:53:19.449415Z",
     "iopub.status.busy": "2024-11-26T00:53:19.449049Z",
     "iopub.status.idle": "2024-11-26T00:53:19.452956Z",
     "shell.execute_reply": "2024-11-26T00:53:19.452161Z"
    },
    "papermill": {
     "duration": 2.991554,
     "end_time": "2024-11-26T00:53:19.454683",
     "exception": false,
     "start_time": "2024-11-26T00:53:16.463129",
     "status": "completed"
    },
    "tags": []
   },
   "outputs": [],
   "source": [
    "# to save the run : zip the folder from this command and then download the zip file\n",
    "#import shutil\n",
    "#shutil.make_archive(\"train_20\", 'zip', \"/kaggle/working/runs/detect/train\")"
   ]
  }
 ],
 "metadata": {
  "kaggle": {
   "accelerator": "nvidiaTeslaT4",
   "dataSources": [
    {
     "datasetId": 3788284,
     "sourceId": 6555828,
     "sourceType": "datasetVersion"
    },
    {
     "datasetId": 6130416,
     "sourceId": 10009869,
     "sourceType": "datasetVersion"
    }
   ],
   "dockerImageVersionId": 30786,
   "isGpuEnabled": true,
   "isInternetEnabled": true,
   "language": "python",
   "sourceType": "notebook"
  },
  "kernelspec": {
   "display_name": "Python 3",
   "language": "python",
   "name": "python3"
  },
  "language_info": {
   "codemirror_mode": {
    "name": "ipython",
    "version": 3
   },
   "file_extension": ".py",
   "mimetype": "text/x-python",
   "name": "python",
   "nbconvert_exporter": "python",
   "pygments_lexer": "ipython3",
   "version": "3.10.14"
  },
  "papermill": {
   "default_parameters": {},
   "duration": 17771.558689,
   "end_time": "2024-11-26T00:53:25.091941",
   "environment_variables": {},
   "exception": null,
   "input_path": "__notebook__.ipynb",
   "output_path": "__notebook__.ipynb",
   "parameters": {},
   "start_time": "2024-11-25T19:57:13.533252",
   "version": "2.6.0"
  }
 },
 "nbformat": 4,
 "nbformat_minor": 5
}
